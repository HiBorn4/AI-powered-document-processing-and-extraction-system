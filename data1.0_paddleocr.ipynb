{
  "cells": [
    {
      "cell_type": "code",
      "execution_count": 2,
      "metadata": {
        "id": "mhEjVUbiUytV"
      },
      "outputs": [
        {
          "name": "stdout",
          "output_type": "stream",
          "text": [
            "Collecting tensorflow\n",
            "  Downloading tensorflow-2.16.1-cp311-cp311-manylinux_2_17_x86_64.manylinux2014_x86_64.whl (589.8 MB)\n",
            "\u001b[2K     \u001b[90m━━━━━━━━━━━━━━━━━━━━━━━━━━━━━━━━━━━━━━━\u001b[0m \u001b[32m589.8/589.8 MB\u001b[0m \u001b[31m2.8 MB/s\u001b[0m eta \u001b[36m0:00:00\u001b[0m00:01\u001b[0m00:04\u001b[0m\n",
            "\u001b[?25hCollecting absl-py>=1.0.0\n",
            "  Downloading absl_py-2.1.0-py3-none-any.whl (133 kB)\n",
            "\u001b[2K     \u001b[90m━━━━━━━━━━━━━━━━━━━━━━━━━━━━━━━━━━━━━━━\u001b[0m \u001b[32m133.7/133.7 kB\u001b[0m \u001b[31m4.3 MB/s\u001b[0m eta \u001b[36m0:00:00\u001b[0m\n",
            "\u001b[?25hCollecting astunparse>=1.6.0\n",
            "  Downloading astunparse-1.6.3-py2.py3-none-any.whl (12 kB)\n",
            "Collecting flatbuffers>=23.5.26\n",
            "  Downloading flatbuffers-24.3.25-py2.py3-none-any.whl (26 kB)\n",
            "Collecting gast!=0.5.0,!=0.5.1,!=0.5.2,>=0.2.1\n",
            "  Downloading gast-0.5.4-py3-none-any.whl (19 kB)\n",
            "Collecting google-pasta>=0.1.1\n",
            "  Downloading google_pasta-0.2.0-py3-none-any.whl (57 kB)\n",
            "\u001b[2K     \u001b[90m━━━━━━━━━━━━━━━━━━━━━━━━━━━━━━━━━━━━━━━━\u001b[0m \u001b[32m57.5/57.5 kB\u001b[0m \u001b[31m3.5 MB/s\u001b[0m eta \u001b[36m0:00:00\u001b[0m\n",
            "\u001b[?25hCollecting h5py>=3.10.0\n",
            "  Downloading h5py-3.11.0-cp311-cp311-manylinux_2_17_x86_64.manylinux2014_x86_64.whl (5.4 MB)\n",
            "\u001b[2K     \u001b[90m━━━━━━━━━━━━━━━━━━━━━━━━━━━━━━━━━━━━━━━━\u001b[0m \u001b[32m5.4/5.4 MB\u001b[0m \u001b[31m2.5 MB/s\u001b[0m eta \u001b[36m0:00:00\u001b[0m00:01\u001b[0m00:01\u001b[0m\n",
            "\u001b[?25hCollecting libclang>=13.0.0\n",
            "  Downloading libclang-18.1.1-py2.py3-none-manylinux2010_x86_64.whl (24.5 MB)\n",
            "\u001b[2K     \u001b[90m━━━━━━━━━━━━━━━━━━━━━━━━━━━━━━━━━━━━━━━━\u001b[0m \u001b[32m24.5/24.5 MB\u001b[0m \u001b[31m2.4 MB/s\u001b[0m eta \u001b[36m0:00:00\u001b[0m00:01\u001b[0m00:01\u001b[0m\n",
            "\u001b[?25hCollecting ml-dtypes~=0.3.1\n",
            "  Downloading ml_dtypes-0.3.2-cp311-cp311-manylinux_2_17_x86_64.manylinux2014_x86_64.whl (2.2 MB)\n",
            "\u001b[2K     \u001b[90m━━━━━━━━━━━━━━━━━━━━━━━━━━━━━━━━━━━━━━━━\u001b[0m \u001b[32m2.2/2.2 MB\u001b[0m \u001b[31m630.6 kB/s\u001b[0m eta \u001b[36m0:00:00\u001b[0ma \u001b[36m0:00:01\u001b[0m\n",
            "\u001b[?25hCollecting opt-einsum>=2.3.2\n",
            "  Downloading opt_einsum-3.3.0-py3-none-any.whl (65 kB)\n",
            "\u001b[2K     \u001b[90m━━━━━━━━━━━━━━━━━━━━━━━━━━━━━━━━━━━━━━━\u001b[0m \u001b[32m65.5/65.5 kB\u001b[0m \u001b[31m472.7 kB/s\u001b[0m eta \u001b[36m0:00:00\u001b[0m \u001b[36m0:00:01\u001b[0m\n",
            "\u001b[?25hRequirement already satisfied: packaging in ./venv/lib/python3.11/site-packages (from tensorflow) (24.0)\n",
            "Collecting protobuf!=4.21.0,!=4.21.1,!=4.21.2,!=4.21.3,!=4.21.4,!=4.21.5,<5.0.0dev,>=3.20.3\n",
            "  Downloading protobuf-4.25.3-cp37-abi3-manylinux2014_x86_64.whl (294 kB)\n",
            "\u001b[2K     \u001b[90m━━━━━━━━━━━━━━━━━━━━━━━━━━━━━━━━━━━━━━\u001b[0m \u001b[32m294.6/294.6 kB\u001b[0m \u001b[31m10.1 MB/s\u001b[0m eta \u001b[36m0:00:00\u001b[0m\n",
            "\u001b[?25hRequirement already satisfied: requests<3,>=2.21.0 in ./venv/lib/python3.11/site-packages (from tensorflow) (2.32.2)\n",
            "Requirement already satisfied: setuptools in ./venv/lib/python3.11/site-packages (from tensorflow) (66.1.1)\n",
            "Requirement already satisfied: six>=1.12.0 in ./venv/lib/python3.11/site-packages (from tensorflow) (1.16.0)\n",
            "Collecting termcolor>=1.1.0\n",
            "  Downloading termcolor-2.4.0-py3-none-any.whl (7.7 kB)\n",
            "Requirement already satisfied: typing-extensions>=3.6.6 in ./venv/lib/python3.11/site-packages (from tensorflow) (4.11.0)\n",
            "Collecting wrapt>=1.11.0\n",
            "  Downloading wrapt-1.16.0-cp311-cp311-manylinux_2_5_x86_64.manylinux1_x86_64.manylinux_2_17_x86_64.manylinux2014_x86_64.whl (80 kB)\n",
            "\u001b[2K     \u001b[90m━━━━━━━━━━━━━━━━━━━━━━━━━━━━━━━━━━━━━━━━\u001b[0m \u001b[32m80.7/80.7 kB\u001b[0m \u001b[31m18.2 MB/s\u001b[0m eta \u001b[36m0:00:00\u001b[0m\n",
            "\u001b[?25hCollecting grpcio<2.0,>=1.24.3\n",
            "  Downloading grpcio-1.64.0-cp311-cp311-manylinux_2_17_x86_64.manylinux2014_x86_64.whl (5.6 MB)\n",
            "\u001b[2K     \u001b[90m━━━━━━━━━━━━━━━━━━━━━━━━━━━━━━━━━━━━━━━━\u001b[0m \u001b[32m5.6/5.6 MB\u001b[0m \u001b[31m1.9 MB/s\u001b[0m eta \u001b[36m0:00:00\u001b[0m00:01\u001b[0m00:01\u001b[0mm\n",
            "\u001b[?25hCollecting tensorboard<2.17,>=2.16\n",
            "  Downloading tensorboard-2.16.2-py3-none-any.whl (5.5 MB)\n",
            "\u001b[2K     \u001b[90m━━━━━━━━━━━━━━━━━━━━━━━━━━━━━━━━━━━━━━━━\u001b[0m \u001b[32m5.5/5.5 MB\u001b[0m \u001b[31m2.1 MB/s\u001b[0m eta \u001b[36m0:00:00\u001b[0m00:01\u001b[0m00:01\u001b[0mm\n",
            "\u001b[?25hCollecting keras>=3.0.0\n",
            "  Downloading keras-3.3.3-py3-none-any.whl (1.1 MB)\n",
            "\u001b[2K     \u001b[90m━━━━━━━━━━━━━━━━━━━━━━━━━━━━━━━━━━━━━━━━\u001b[0m \u001b[32m1.1/1.1 MB\u001b[0m \u001b[31m896.3 kB/s\u001b[0m eta \u001b[36m0:00:00\u001b[0ma \u001b[36m0:00:01\u001b[0m\n",
            "\u001b[?25hCollecting tensorflow-io-gcs-filesystem>=0.23.1\n",
            "  Downloading tensorflow_io_gcs_filesystem-0.37.0-cp311-cp311-manylinux_2_17_x86_64.manylinux2014_x86_64.whl (5.1 MB)\n",
            "\u001b[2K     \u001b[90m━━━━━━━━━━━━━━━━━━━━━━━━━━━━━━━━━━━━━━━━\u001b[0m \u001b[32m5.1/5.1 MB\u001b[0m \u001b[31m1.1 MB/s\u001b[0m eta \u001b[36m0:00:00\u001b[0m00:01\u001b[0m00:01\u001b[0m0m\n",
            "\u001b[?25hRequirement already satisfied: numpy<2.0.0,>=1.23.5 in ./venv/lib/python3.11/site-packages (from tensorflow) (1.26.4)\n",
            "Collecting wheel<1.0,>=0.23.0\n",
            "  Downloading wheel-0.43.0-py3-none-any.whl (65 kB)\n",
            "\u001b[2K     \u001b[90m━━━━━━━━━━━━━━━━━━━━━━━━━━━━━━━━━━━━━━━\u001b[0m \u001b[32m65.8/65.8 kB\u001b[0m \u001b[31m278.9 kB/s\u001b[0m eta \u001b[36m0:00:00\u001b[0m \u001b[36m0:00:01\u001b[0m\n",
            "\u001b[?25hCollecting rich\n",
            "  Downloading rich-13.7.1-py3-none-any.whl (240 kB)\n",
            "\u001b[2K     \u001b[90m━━━━━━━━━━━━━━━━━━━━━━━━━━━━━━━━━━━━━━━\u001b[0m \u001b[32m240.7/240.7 kB\u001b[0m \u001b[31m1.2 MB/s\u001b[0m eta \u001b[36m0:00:00\u001b[0ma \u001b[36m0:00:01\u001b[0m\n",
            "\u001b[?25hCollecting namex\n",
            "  Downloading namex-0.0.8-py3-none-any.whl (5.8 kB)\n",
            "Collecting optree\n",
            "  Downloading optree-0.11.0-cp311-cp311-manylinux_2_17_x86_64.manylinux2014_x86_64.whl (312 kB)\n",
            "\u001b[2K     \u001b[90m━━━━━━━━━━━━━━━━━━━━━━━━━━━━━━━━━━━━━━━\u001b[0m \u001b[32m312.0/312.0 kB\u001b[0m \u001b[31m3.8 MB/s\u001b[0m eta \u001b[36m0:00:00\u001b[0ma \u001b[36m0:00:01\u001b[0m\n",
            "\u001b[?25hRequirement already satisfied: charset-normalizer<4,>=2 in ./venv/lib/python3.11/site-packages (from requests<3,>=2.21.0->tensorflow) (3.3.2)\n",
            "Requirement already satisfied: idna<4,>=2.5 in ./venv/lib/python3.11/site-packages (from requests<3,>=2.21.0->tensorflow) (3.7)\n",
            "Requirement already satisfied: urllib3<3,>=1.21.1 in ./venv/lib/python3.11/site-packages (from requests<3,>=2.21.0->tensorflow) (2.2.1)\n",
            "Requirement already satisfied: certifi>=2017.4.17 in ./venv/lib/python3.11/site-packages (from requests<3,>=2.21.0->tensorflow) (2024.2.2)\n",
            "Collecting markdown>=2.6.8\n",
            "  Downloading Markdown-3.6-py3-none-any.whl (105 kB)\n",
            "\u001b[2K     \u001b[90m━━━━━━━━━━━━━━━━━━━━━━━━━━━━━━━━━━━━━━━\u001b[0m \u001b[32m105.4/105.4 kB\u001b[0m \u001b[31m9.7 MB/s\u001b[0m eta \u001b[36m0:00:00\u001b[0m\n",
            "\u001b[?25hCollecting tensorboard-data-server<0.8.0,>=0.7.0\n",
            "  Downloading tensorboard_data_server-0.7.2-py3-none-manylinux_2_31_x86_64.whl (6.6 MB)\n",
            "\u001b[2K     \u001b[90m━━━━━━━━━━━━━━━━━━━━━━━━━━━━━━━━━━━━━━━━\u001b[0m \u001b[32m6.6/6.6 MB\u001b[0m \u001b[31m3.4 MB/s\u001b[0m eta \u001b[36m0:00:00\u001b[0m00:01\u001b[0m00:01\u001b[0m\n",
            "\u001b[?25hCollecting werkzeug>=1.0.1\n",
            "  Downloading werkzeug-3.0.3-py3-none-any.whl (227 kB)\n",
            "\u001b[2K     \u001b[90m━━━━━━━━━━━━━━━━━━━━━━━━━━━━━━━━━━━━━━━\u001b[0m \u001b[32m227.3/227.3 kB\u001b[0m \u001b[31m3.2 MB/s\u001b[0m eta \u001b[36m0:00:00\u001b[0ma \u001b[36m0:00:01\u001b[0m\n",
            "\u001b[?25hCollecting MarkupSafe>=2.1.1\n",
            "  Using cached MarkupSafe-2.1.5-cp311-cp311-manylinux_2_17_x86_64.manylinux2014_x86_64.whl (28 kB)\n",
            "Collecting markdown-it-py>=2.2.0\n",
            "  Downloading markdown_it_py-3.0.0-py3-none-any.whl (87 kB)\n",
            "\u001b[2K     \u001b[90m━━━━━━━━━━━━━━━━━━━━━━━━━━━━━━━━━━━━━━━━\u001b[0m \u001b[32m87.5/87.5 kB\u001b[0m \u001b[31m14.3 MB/s\u001b[0m eta \u001b[36m0:00:00\u001b[0m\n",
            "\u001b[?25hRequirement already satisfied: pygments<3.0.0,>=2.13.0 in ./venv/lib/python3.11/site-packages (from rich->keras>=3.0.0->tensorflow) (2.18.0)\n",
            "Collecting mdurl~=0.1\n",
            "  Downloading mdurl-0.1.2-py3-none-any.whl (10.0 kB)\n",
            "Installing collected packages: namex, libclang, flatbuffers, wrapt, wheel, termcolor, tensorflow-io-gcs-filesystem, tensorboard-data-server, protobuf, optree, opt-einsum, ml-dtypes, mdurl, MarkupSafe, markdown, h5py, grpcio, google-pasta, gast, absl-py, werkzeug, markdown-it-py, astunparse, tensorboard, rich, keras, tensorflow\n",
            "Successfully installed MarkupSafe-2.1.5 absl-py-2.1.0 astunparse-1.6.3 flatbuffers-24.3.25 gast-0.5.4 google-pasta-0.2.0 grpcio-1.64.0 h5py-3.11.0 keras-3.3.3 libclang-18.1.1 markdown-3.6 markdown-it-py-3.0.0 mdurl-0.1.2 ml-dtypes-0.3.2 namex-0.0.8 opt-einsum-3.3.0 optree-0.11.0 protobuf-4.25.3 rich-13.7.1 tensorboard-2.16.2 tensorboard-data-server-0.7.2 tensorflow-2.16.1 tensorflow-io-gcs-filesystem-0.37.0 termcolor-2.4.0 werkzeug-3.0.3 wheel-0.43.0 wrapt-1.16.0\n"
          ]
        },
        {
          "name": "stderr",
          "output_type": "stream",
          "text": [
            "2024-05-27 11:34:39.138629: I external/local_tsl/tsl/cuda/cudart_stub.cc:32] Could not find cuda drivers on your machine, GPU will not be used.\n",
            "2024-05-27 11:34:39.141570: I external/local_tsl/tsl/cuda/cudart_stub.cc:32] Could not find cuda drivers on your machine, GPU will not be used.\n",
            "2024-05-27 11:34:39.179148: I tensorflow/core/platform/cpu_feature_guard.cc:210] This TensorFlow binary is optimized to use available CPU instructions in performance-critical operations.\n",
            "To enable the following instructions: AVX2 FMA, in other operations, rebuild TensorFlow with the appropriate compiler flags.\n",
            "2024-05-27 11:34:40.063628: W tensorflow/compiler/tf2tensorrt/utils/py_utils.cc:38] TF-TRT Warning: Could not find TensorRT\n"
          ]
        }
      ],
      "source": [
        "from PIL import Image\n",
        "import cv2\n",
        "import numpy as np\n",
        "import pandas as pd\n",
        "!pip3 install tensorflow\n",
        "import tensorflow as tf"
      ]
    },
    {
      "cell_type": "code",
      "execution_count": 7,
      "metadata": {
        "colab": {
          "base_uri": "https://localhost:8080/"
        },
        "id": "JejuCeNXHckg",
        "outputId": "262a6819-544d-4645-d430-1dc092cfdf72"
      },
      "outputs": [
        {
          "name": "stdout",
          "output_type": "stream",
          "text": [
            "\u001b[31mERROR: Could not find a version that satisfies the requirement paddlepaddle-gpu==2.3.2 (from versions: 2.5.1, 2.5.2, 2.6.0, 2.6.1)\u001b[0m\u001b[31m\n",
            "\u001b[0m\u001b[31mERROR: No matching distribution found for paddlepaddle-gpu==2.3.2\u001b[0m\u001b[31m\n",
            "\u001b[0m"
          ]
        }
      ],
      "source": [
        "# !pip3 install paddlepaddle-gpu\n",
        "# !pip3 install paddlepaddle-gpu==2.6.1\n",
        "\n",
        "\n",
        "!pip3 install paddlepaddle-gpu==2.3.2 cudatoolkit==10.2"
      ]
    },
    {
      "cell_type": "code",
      "execution_count": 8,
      "metadata": {
        "colab": {
          "base_uri": "https://localhost:8080/"
        },
        "id": "xWhdOt9Jay6z",
        "outputId": "3b0828d0-4df6-4146-914e-50c9d22d61a5"
      },
      "outputs": [
        {
          "name": "stdout",
          "output_type": "stream",
          "text": [
            "Looking in links: https://www.paddlepaddle.org.cn/whl/linux/mkl/avx/stable.html\n",
            "\u001b[33mWARNING: Retrying (Retry(total=4, connect=None, read=None, redirect=None, status=None)) after connection broken by 'ConnectTimeoutError(<pip._vendor.urllib3.connection.HTTPSConnection object at 0x7f7658746e90>, 'Connection to www.paddlepaddle.org.cn timed out. (connect timeout=15)')': /whl/linux/mkl/avx/stable.html\u001b[0m\u001b[33m\n",
            "\u001b[0m\u001b[33mWARNING: Retrying (Retry(total=3, connect=None, read=None, redirect=None, status=None)) after connection broken by 'ConnectTimeoutError(<pip._vendor.urllib3.connection.HTTPSConnection object at 0x7f7658516790>, 'Connection to www.paddlepaddle.org.cn timed out. (connect timeout=15)')': /whl/linux/mkl/avx/stable.html\u001b[0m\u001b[33m\n",
            "\u001b[0m^C\n",
            "\u001b[31mERROR: Operation cancelled by user\u001b[0m\u001b[31m\n",
            "\u001b[0m"
          ]
        }
      ],
      "source": [
        "!pip3 install paddlepaddle-gpu==2.3.0.post110 -f https://www.paddlepaddle.org.cn/whl/linux/mkl/avx/stable.html"
      ]
    },
    {
      "cell_type": "markdown",
      "metadata": {
        "id": "dvKiMyj2feUe"
      },
      "source": [
        "# pdf2image"
      ]
    },
    {
      "cell_type": "markdown",
      "metadata": {
        "id": "aIz56VvlWkf-"
      },
      "source": [
        "## Installation"
      ]
    },
    {
      "cell_type": "code",
      "execution_count": 11,
      "metadata": {
        "colab": {
          "base_uri": "https://localhost:8080/"
        },
        "id": "biSgyAkWnUD3",
        "outputId": "166a2e87-df39-452a-bde1-ac16ff270491"
      },
      "outputs": [
        {
          "name": "stdout",
          "output_type": "stream",
          "text": [
            "Requirement already satisfied: pdf2image in ./venv/lib/python3.11/site-packages (1.17.0)\n",
            "Requirement already satisfied: pillow in ./venv/lib/python3.11/site-packages (from pdf2image) (10.3.0)\n"
          ]
        }
      ],
      "source": [
        "# !pip3 install pdf2image\n",
        "# !apt-get install poppler-utils"
      ]
    },
    {
      "cell_type": "markdown",
      "metadata": {
        "id": "pLaguCz1WmF9"
      },
      "source": [
        "## Conversion"
      ]
    },
    {
      "cell_type": "code",
      "execution_count": 13,
      "metadata": {
        "id": "HI1dzCGmkeWI"
      },
      "outputs": [],
      "source": [
        "from pdf2image import convert_from_path"
      ]
    },
    {
      "cell_type": "code",
      "execution_count": 14,
      "metadata": {
        "id": "xyhjFgqjkgG7"
      },
      "outputs": [],
      "source": [
        "images = convert_from_path('data/data1.0/2535331,33.pdf')"
      ]
    },
    {
      "cell_type": "code",
      "execution_count": 15,
      "metadata": {
        "id": "M5hBWxpskgJW"
      },
      "outputs": [],
      "source": [
        "!mkdir pages"
      ]
    },
    {
      "cell_type": "code",
      "execution_count": 16,
      "metadata": {
        "id": "7mlH9ltkkgMB"
      },
      "outputs": [],
      "source": [
        "for i in range(len(images)):\n",
        "  images[i].save('pages/page'+str(i)+'.jpg', 'JPEG')"
      ]
    },
    {
      "cell_type": "markdown",
      "metadata": {
        "id": "Urwb7Q_OZC8t"
      },
      "source": [
        "# Layout"
      ]
    },
    {
      "cell_type": "markdown",
      "metadata": {
        "id": "vTkwQbF4FZPN"
      },
      "source": [
        "## Installation"
      ]
    },
    {
      "cell_type": "code",
      "execution_count": 19,
      "metadata": {
        "colab": {
          "base_uri": "https://localhost:8080/",
          "height": 1000
        },
        "id": "R0lRpQLkIpbZ",
        "outputId": "24283e8e-5de0-4b41-bb43-8d0638f927c1"
      },
      "outputs": [
        {
          "name": "stdout",
          "output_type": "stream",
          "text": [
            "Requirement already satisfied: paddleocr>=2.0.1 in ./venv/lib/python3.11/site-packages (2.7.3)\n",
            "Requirement already satisfied: shapely in ./venv/lib/python3.11/site-packages (from paddleocr>=2.0.1) (2.0.4)\n",
            "Requirement already satisfied: scikit-image in ./venv/lib/python3.11/site-packages (from paddleocr>=2.0.1) (0.23.2)\n",
            "Requirement already satisfied: imgaug in ./venv/lib/python3.11/site-packages (from paddleocr>=2.0.1) (0.4.0)\n",
            "Requirement already satisfied: pyclipper in ./venv/lib/python3.11/site-packages (from paddleocr>=2.0.1) (1.3.0.post5)\n",
            "Requirement already satisfied: lmdb in ./venv/lib/python3.11/site-packages (from paddleocr>=2.0.1) (1.4.1)\n",
            "Requirement already satisfied: tqdm in ./venv/lib/python3.11/site-packages (from paddleocr>=2.0.1) (4.66.4)\n",
            "Requirement already satisfied: numpy in ./venv/lib/python3.11/site-packages (from paddleocr>=2.0.1) (1.26.4)\n",
            "Requirement already satisfied: visualdl in ./venv/lib/python3.11/site-packages (from paddleocr>=2.0.1) (2.5.3)\n",
            "Requirement already satisfied: rapidfuzz in ./venv/lib/python3.11/site-packages (from paddleocr>=2.0.1) (3.9.1)\n",
            "Requirement already satisfied: opencv-python<=4.6.0.66 in ./venv/lib/python3.11/site-packages (from paddleocr>=2.0.1) (4.6.0.66)\n",
            "Requirement already satisfied: opencv-contrib-python<=4.6.0.66 in ./venv/lib/python3.11/site-packages (from paddleocr>=2.0.1) (4.6.0.66)\n",
            "Requirement already satisfied: cython in ./venv/lib/python3.11/site-packages (from paddleocr>=2.0.1) (3.0.10)\n",
            "Requirement already satisfied: lxml in ./venv/lib/python3.11/site-packages (from paddleocr>=2.0.1) (5.2.2)\n",
            "Requirement already satisfied: premailer in ./venv/lib/python3.11/site-packages (from paddleocr>=2.0.1) (3.10.0)\n",
            "Requirement already satisfied: openpyxl in ./venv/lib/python3.11/site-packages (from paddleocr>=2.0.1) (3.1.2)\n",
            "Requirement already satisfied: attrdict in ./venv/lib/python3.11/site-packages (from paddleocr>=2.0.1) (2.0.1)\n",
            "Requirement already satisfied: Pillow>=10.0.0 in ./venv/lib/python3.11/site-packages (from paddleocr>=2.0.1) (10.3.0)\n",
            "Requirement already satisfied: pyyaml in ./venv/lib/python3.11/site-packages (from paddleocr>=2.0.1) (6.0.1)\n",
            "Requirement already satisfied: python-docx in ./venv/lib/python3.11/site-packages (from paddleocr>=2.0.1) (1.1.2)\n",
            "Requirement already satisfied: beautifulsoup4 in ./venv/lib/python3.11/site-packages (from paddleocr>=2.0.1) (4.12.3)\n",
            "Requirement already satisfied: fonttools>=4.24.0 in ./venv/lib/python3.11/site-packages (from paddleocr>=2.0.1) (4.51.0)\n",
            "Requirement already satisfied: fire>=0.3.0 in ./venv/lib/python3.11/site-packages (from paddleocr>=2.0.1) (0.6.0)\n",
            "Requirement already satisfied: pdf2docx in ./venv/lib/python3.11/site-packages (from paddleocr>=2.0.1) (0.5.8)\n",
            "Requirement already satisfied: six in ./venv/lib/python3.11/site-packages (from fire>=0.3.0->paddleocr>=2.0.1) (1.16.0)\n",
            "Requirement already satisfied: termcolor in ./venv/lib/python3.11/site-packages (from fire>=0.3.0->paddleocr>=2.0.1) (2.4.0)\n",
            "Requirement already satisfied: soupsieve>1.2 in ./venv/lib/python3.11/site-packages (from beautifulsoup4->paddleocr>=2.0.1) (2.5)\n",
            "Requirement already satisfied: scipy in ./venv/lib/python3.11/site-packages (from imgaug->paddleocr>=2.0.1) (1.13.1)\n",
            "Requirement already satisfied: matplotlib in ./venv/lib/python3.11/site-packages (from imgaug->paddleocr>=2.0.1) (3.9.0)\n",
            "Requirement already satisfied: imageio in ./venv/lib/python3.11/site-packages (from imgaug->paddleocr>=2.0.1) (2.34.1)\n",
            "Requirement already satisfied: networkx>=2.8 in ./venv/lib/python3.11/site-packages (from scikit-image->paddleocr>=2.0.1) (3.3)\n",
            "Requirement already satisfied: tifffile>=2022.8.12 in ./venv/lib/python3.11/site-packages (from scikit-image->paddleocr>=2.0.1) (2024.5.22)\n",
            "Requirement already satisfied: packaging>=21 in ./venv/lib/python3.11/site-packages (from scikit-image->paddleocr>=2.0.1) (24.0)\n",
            "Requirement already satisfied: lazy-loader>=0.4 in ./venv/lib/python3.11/site-packages (from scikit-image->paddleocr>=2.0.1) (0.4)\n",
            "Requirement already satisfied: et-xmlfile in ./venv/lib/python3.11/site-packages (from openpyxl->paddleocr>=2.0.1) (1.1.0)\n",
            "Requirement already satisfied: PyMuPDF>=1.19.0 in ./venv/lib/python3.11/site-packages (from pdf2docx->paddleocr>=2.0.1) (1.24.4)\n",
            "Requirement already satisfied: opencv-python-headless>=4.5 in ./venv/lib/python3.11/site-packages (from pdf2docx->paddleocr>=2.0.1) (4.9.0.80)\n",
            "Requirement already satisfied: typing-extensions>=4.9.0 in ./venv/lib/python3.11/site-packages (from python-docx->paddleocr>=2.0.1) (4.11.0)\n",
            "Requirement already satisfied: cssselect in ./venv/lib/python3.11/site-packages (from premailer->paddleocr>=2.0.1) (1.2.0)\n",
            "Requirement already satisfied: cssutils in ./venv/lib/python3.11/site-packages (from premailer->paddleocr>=2.0.1) (2.11.0)\n",
            "Requirement already satisfied: requests in ./venv/lib/python3.11/site-packages (from premailer->paddleocr>=2.0.1) (2.32.2)\n",
            "Requirement already satisfied: cachetools in ./venv/lib/python3.11/site-packages (from premailer->paddleocr>=2.0.1) (5.3.3)\n",
            "Requirement already satisfied: bce-python-sdk in ./venv/lib/python3.11/site-packages (from visualdl->paddleocr>=2.0.1) (0.9.11)\n",
            "Requirement already satisfied: flask>=1.1.1 in ./venv/lib/python3.11/site-packages (from visualdl->paddleocr>=2.0.1) (3.0.3)\n",
            "Requirement already satisfied: Flask-Babel>=3.0.0 in ./venv/lib/python3.11/site-packages (from visualdl->paddleocr>=2.0.1) (4.0.0)\n",
            "Requirement already satisfied: protobuf>=3.20.0 in ./venv/lib/python3.11/site-packages (from visualdl->paddleocr>=2.0.1) (3.20.0)\n",
            "Requirement already satisfied: pandas in ./venv/lib/python3.11/site-packages (from visualdl->paddleocr>=2.0.1) (2.2.2)\n",
            "Requirement already satisfied: rarfile in ./venv/lib/python3.11/site-packages (from visualdl->paddleocr>=2.0.1) (4.2)\n",
            "Requirement already satisfied: psutil in ./venv/lib/python3.11/site-packages (from visualdl->paddleocr>=2.0.1) (5.9.8)\n",
            "Requirement already satisfied: Werkzeug>=3.0.0 in ./venv/lib/python3.11/site-packages (from flask>=1.1.1->visualdl->paddleocr>=2.0.1) (3.0.3)\n",
            "Requirement already satisfied: Jinja2>=3.1.2 in ./venv/lib/python3.11/site-packages (from flask>=1.1.1->visualdl->paddleocr>=2.0.1) (3.1.4)\n",
            "Requirement already satisfied: itsdangerous>=2.1.2 in ./venv/lib/python3.11/site-packages (from flask>=1.1.1->visualdl->paddleocr>=2.0.1) (2.2.0)\n",
            "Requirement already satisfied: click>=8.1.3 in ./venv/lib/python3.11/site-packages (from flask>=1.1.1->visualdl->paddleocr>=2.0.1) (8.1.7)\n",
            "Requirement already satisfied: blinker>=1.6.2 in ./venv/lib/python3.11/site-packages (from flask>=1.1.1->visualdl->paddleocr>=2.0.1) (1.8.2)\n",
            "Requirement already satisfied: Babel>=2.12 in ./venv/lib/python3.11/site-packages (from Flask-Babel>=3.0.0->visualdl->paddleocr>=2.0.1) (2.15.0)\n",
            "Requirement already satisfied: pytz>=2022.7 in ./venv/lib/python3.11/site-packages (from Flask-Babel>=3.0.0->visualdl->paddleocr>=2.0.1) (2024.1)\n",
            "Requirement already satisfied: PyMuPDFb==1.24.3 in ./venv/lib/python3.11/site-packages (from PyMuPDF>=1.19.0->pdf2docx->paddleocr>=2.0.1) (1.24.3)\n",
            "Requirement already satisfied: pycryptodome>=3.8.0 in ./venv/lib/python3.11/site-packages (from bce-python-sdk->visualdl->paddleocr>=2.0.1) (3.20.0)\n",
            "Requirement already satisfied: future>=0.6.0 in ./venv/lib/python3.11/site-packages (from bce-python-sdk->visualdl->paddleocr>=2.0.1) (1.0.0)\n",
            "Requirement already satisfied: contourpy>=1.0.1 in ./venv/lib/python3.11/site-packages (from matplotlib->imgaug->paddleocr>=2.0.1) (1.2.1)\n",
            "Requirement already satisfied: cycler>=0.10 in ./venv/lib/python3.11/site-packages (from matplotlib->imgaug->paddleocr>=2.0.1) (0.12.1)\n",
            "Requirement already satisfied: kiwisolver>=1.3.1 in ./venv/lib/python3.11/site-packages (from matplotlib->imgaug->paddleocr>=2.0.1) (1.4.5)\n",
            "Requirement already satisfied: pyparsing>=2.3.1 in ./venv/lib/python3.11/site-packages (from matplotlib->imgaug->paddleocr>=2.0.1) (3.1.2)\n",
            "Requirement already satisfied: python-dateutil>=2.7 in ./venv/lib/python3.11/site-packages (from matplotlib->imgaug->paddleocr>=2.0.1) (2.9.0.post0)\n",
            "Requirement already satisfied: tzdata>=2022.7 in ./venv/lib/python3.11/site-packages (from pandas->visualdl->paddleocr>=2.0.1) (2024.1)\n",
            "Requirement already satisfied: charset-normalizer<4,>=2 in ./venv/lib/python3.11/site-packages (from requests->premailer->paddleocr>=2.0.1) (3.3.2)\n",
            "Requirement already satisfied: idna<4,>=2.5 in ./venv/lib/python3.11/site-packages (from requests->premailer->paddleocr>=2.0.1) (3.7)\n",
            "Requirement already satisfied: urllib3<3,>=1.21.1 in ./venv/lib/python3.11/site-packages (from requests->premailer->paddleocr>=2.0.1) (2.2.1)\n",
            "Requirement already satisfied: certifi>=2017.4.17 in ./venv/lib/python3.11/site-packages (from requests->premailer->paddleocr>=2.0.1) (2024.2.2)\n",
            "Requirement already satisfied: MarkupSafe>=2.0 in ./venv/lib/python3.11/site-packages (from Jinja2>=3.1.2->flask>=1.1.1->visualdl->paddleocr>=2.0.1) (2.1.5)\n",
            "Requirement already satisfied: protobuf==3.20.0 in ./venv/lib/python3.11/site-packages (3.20.0)\n"
          ]
        }
      ],
      "source": [
        "#!python3 -m pip install paddlepaddle-gpu\n",
        "!pip install \"paddleocr>=2.0.1\"\n",
        "!pip install protobuf==3.20.0\n",
        "# !git clone https://github.com/PaddlePaddle/PaddleOCR.git"
      ]
    },
    {
      "cell_type": "code",
      "execution_count": 20,
      "metadata": {
        "id": "IXEKTAa2_10K"
      },
      "outputs": [],
      "source": [
        "a=5"
      ]
    },
    {
      "cell_type": "code",
      "execution_count": 21,
      "metadata": {
        "colab": {
          "base_uri": "https://localhost:8080/"
        },
        "id": "8gWFgGl5CXu6",
        "outputId": "5d435097-2f57-4806-f454-eeeeb1a02efc"
      },
      "outputs": [
        {
          "name": "stdout",
          "output_type": "stream",
          "text": [
            "--2024-05-27 13:19:05--  https://paddleocr.bj.bcebos.com/whl/layoutparser-0.0.0-py3-none-any.whl\n",
            "Resolving paddleocr.bj.bcebos.com (paddleocr.bj.bcebos.com)... 103.235.46.61, 2409:8c04:1001:1203:0:ff:b0bb:4f27\n",
            "Connecting to paddleocr.bj.bcebos.com (paddleocr.bj.bcebos.com)|103.235.46.61|:443... connected.\n",
            "HTTP request sent, awaiting response... 200 OK\n",
            "Length: 19145360 (18M) [application/octet-stream]\n",
            "Saving to: ‘layoutparser-0.0.0-py3-none-any.whl’\n",
            "\n",
            "layoutparser-0.0.0- 100%[===================>]  18.26M   188KB/s    in 97s     \n",
            "\n",
            "2024-05-27 13:20:45 (192 KB/s) - ‘layoutparser-0.0.0-py3-none-any.whl’ saved [19145360/19145360]\n",
            "\n",
            "Processing ./layoutparser-0.0.0-py3-none-any.whl\n",
            "Requirement already satisfied: numpy in ./venv/lib/python3.11/site-packages (from layoutparser==0.0.0) (1.26.4)\n",
            "Requirement already satisfied: opencv-python in ./venv/lib/python3.11/site-packages (from layoutparser==0.0.0) (4.6.0.66)\n",
            "Requirement already satisfied: pandas in ./venv/lib/python3.11/site-packages (from layoutparser==0.0.0) (2.2.2)\n",
            "Requirement already satisfied: pillow in ./venv/lib/python3.11/site-packages (from layoutparser==0.0.0) (10.3.0)\n",
            "Requirement already satisfied: pyyaml>=5.1 in ./venv/lib/python3.11/site-packages (from layoutparser==0.0.0) (6.0.1)\n",
            "Collecting iopath\n",
            "  Downloading iopath-0.1.10.tar.gz (42 kB)\n",
            "\u001b[2K     \u001b[90m━━━━━━━━━━━━━━━━━━━━━━━━━━━━━━━━━━━━━━━\u001b[0m \u001b[32m42.2/42.2 kB\u001b[0m \u001b[31m142.4 kB/s\u001b[0m eta \u001b[36m0:00:00\u001b[0ma \u001b[36m0:00:01\u001b[0m\n",
            "\u001b[?25h  Preparing metadata (setup.py) ... \u001b[?25ldone\n",
            "\u001b[?25hRequirement already satisfied: tqdm in ./venv/lib/python3.11/site-packages (from layoutparser==0.0.0) (4.66.4)\n",
            "Collecting portalocker\n",
            "  Downloading portalocker-2.8.2-py3-none-any.whl (17 kB)\n",
            "Requirement already satisfied: typing_extensions in ./venv/lib/python3.11/site-packages (from iopath->layoutparser==0.0.0) (4.11.0)\n",
            "Requirement already satisfied: python-dateutil>=2.8.2 in ./venv/lib/python3.11/site-packages (from pandas->layoutparser==0.0.0) (2.9.0.post0)\n",
            "Requirement already satisfied: pytz>=2020.1 in ./venv/lib/python3.11/site-packages (from pandas->layoutparser==0.0.0) (2024.1)\n",
            "Requirement already satisfied: tzdata>=2022.7 in ./venv/lib/python3.11/site-packages (from pandas->layoutparser==0.0.0) (2024.1)\n",
            "Requirement already satisfied: six>=1.5 in ./venv/lib/python3.11/site-packages (from python-dateutil>=2.8.2->pandas->layoutparser==0.0.0) (1.16.0)\n",
            "Building wheels for collected packages: iopath\n",
            "  Building wheel for iopath (setup.py) ... \u001b[?25ldone\n",
            "\u001b[?25h  Created wheel for iopath: filename=iopath-0.1.10-py3-none-any.whl size=31532 sha256=461a1e7be410d968c0cdb679356b8627e13e336b5b4bacd98afee75259b66755\n",
            "  Stored in directory: /home/hi-born4/.cache/pip/wheels/ba/5e/16/6117f8fe7e9c0c161a795e10d94645ebcf301ccbd01f66d8ec\n",
            "Successfully built iopath\n",
            "Installing collected packages: portalocker, iopath, layoutparser\n",
            "Successfully installed iopath-0.1.10 layoutparser-0.0.0 portalocker-2.8.2\n"
          ]
        }
      ],
      "source": [
        "!wget https://paddleocr.bj.bcebos.com/whl/layoutparser-0.0.0-py3-none-any.whl\n",
        "!pip install -U layoutparser-0.0.0-py3-none-any.whl"
      ]
    },
    {
      "cell_type": "markdown",
      "metadata": {
        "id": "w5MA08E0F8aU"
      },
      "source": [
        "## Table Extraction"
      ]
    },
    {
      "cell_type": "code",
      "execution_count": 72,
      "metadata": {
        "colab": {
          "base_uri": "https://localhost:8080/"
        },
        "id": "bw9SFYnMCX0E",
        "outputId": "89218fbd-3b01-453e-a191-0d15c8883d03"
      },
      "outputs": [],
      "source": [
        "import cv2\n",
        "import layoutparser as lp\n",
        "image = cv2.imread(\"pages/page0.png\")\n",
        "\n",
        "image = image[..., ::-1]\n",
        "\n",
        "# load model  \n",
        "model = lp.PaddleDetectionLayoutModel(config_path=\"lp://PubLayNet/ppyolov2_r50vd_dcn_365e_publaynet/config\",\n",
        "                                threshold=0.5,\n",
        "                                label_map={0: \"Text\", 1: \"Title\", 2: \"List\", 3:\"Table\", 4:\"Figure\"},\n",
        "                                enforce_cpu=True,\n",
        "                                enable_mkldnn=True)#math kernel library\n",
        "layout = model.detect(image)\n",
        "# detect"
      ]
    },
    {
      "cell_type": "code",
      "execution_count": 73,
      "metadata": {
        "colab": {
          "base_uri": "https://localhost:8080/"
        },
        "id": "G76oO2WXCX6v",
        "outputId": "2b0f9ed6-ff8c-4b46-b69c-5e3961d017d4"
      },
      "outputs": [
        {
          "data": {
            "text/plain": [
              "Layout(_blocks=[TextBlock(block=Rectangle(x_1=11.28070068359375, y_1=11.536956787109375, x_2=1343.1787109375, y_2=967.27978515625), text=None, id=None, type=Table, parent=None, next=None, score=0.7212847471237183), TextBlock(block=Rectangle(x_1=17.60357666015625, y_1=9.267974853515625, x_2=1356.990478515625, y_2=968.6737060546875), text=None, id=None, type=Figure, parent=None, next=None, score=0.5934270620346069)], page_data={})"
            ]
          },
          "execution_count": 73,
          "metadata": {},
          "output_type": "execute_result"
        }
      ],
      "source": [
        "layout"
      ]
    },
    {
      "cell_type": "code",
      "execution_count": 75,
      "metadata": {
        "colab": {
          "base_uri": "https://localhost:8080/"
        },
        "id": "y3h0kCz-CX_U",
        "outputId": "5b44d211-694b-409f-df7c-69189d4b448f"
      },
      "outputs": [
        {
          "name": "stdout",
          "output_type": "stream",
          "text": [
            "11.280701\n"
          ]
        }
      ],
      "source": [
        "x_1=11.28070068359375\n",
        "y_1=11.536956787109375\n",
        "x_2=1343.1787109375\n",
        "y_2=967.27978515625\n",
        "\n",
        "for l in layout:\n",
        "  #print(l)\n",
        "  if l.type == 'Table':\n",
        "    x_1 = int(l.block.x_1)\n",
        "    print(l.block.x_1)\n",
        "    y_1 = int(l.block.y_1)\n",
        "    x_2 = int(l.block.x_2)\n",
        "    y_2 = int(l.block.y_2)\n",
        "\n",
        "    break"
      ]
    },
    {
      "cell_type": "code",
      "execution_count": 76,
      "metadata": {
        "colab": {
          "base_uri": "https://localhost:8080/"
        },
        "id": "cdiYPeCJCYIg",
        "outputId": "4160ed2b-e1d1-4174-dd2e-55bee31167f3"
      },
      "outputs": [
        {
          "name": "stdout",
          "output_type": "stream",
          "text": [
            "11 11 1343 967\n"
          ]
        }
      ],
      "source": [
        "print(x_1,y_1,x_2,y_2)"
      ]
    },
    {
      "cell_type": "code",
      "execution_count": 79,
      "metadata": {
        "id": "F39kJV3hCYLV"
      },
      "outputs": [],
      "source": [
        "im = cv2.imread('pages/page0.png')"
      ]
    },
    {
      "cell_type": "code",
      "execution_count": 80,
      "metadata": {
        "colab": {
          "base_uri": "https://localhost:8080/"
        },
        "id": "EQDXSNijCYPs",
        "outputId": "9c0e6954-da96-491b-efcb-318dc5410561"
      },
      "outputs": [
        {
          "data": {
            "text/plain": [
              "True"
            ]
          },
          "execution_count": 80,
          "metadata": {},
          "output_type": "execute_result"
        }
      ],
      "source": [
        "cv2.imwrite('ext_im.jpg', im[y_1:y_2,x_1:x_2])"
      ]
    },
    {
      "cell_type": "markdown",
      "metadata": {
        "id": "EGwGhHnd8i_h"
      },
      "source": [
        "# Text Detection and Recognition"
      ]
    },
    {
      "cell_type": "code",
      "execution_count": 81,
      "metadata": {
        "id": "N6WQZXhLLDWk"
      },
      "outputs": [],
      "source": [
        "from paddleocr import PaddleOCR, draw_ocr"
      ]
    },
    {
      "cell_type": "code",
      "execution_count": 82,
      "metadata": {
        "colab": {
          "base_uri": "https://localhost:8080/"
        },
        "id": "A8bCZ9AULDZF",
        "outputId": "78de4243-7a38-4378-8dfd-063004300535"
      },
      "outputs": [
        {
          "name": "stdout",
          "output_type": "stream",
          "text": [
            "[2024/05/27 14:38:36] ppocr DEBUG: Namespace(help='==SUPPRESS==', use_gpu=False, use_xpu=False, use_npu=False, ir_optim=True, use_tensorrt=False, min_subgraph_size=15, precision='fp32', gpu_mem=500, gpu_id=0, image_dir=None, page_num=0, det_algorithm='DB', det_model_dir='/home/hi-born4/.paddleocr/whl/det/en/en_PP-OCRv3_det_infer', det_limit_side_len=960, det_limit_type='max', det_box_type='quad', det_db_thresh=0.3, det_db_box_thresh=0.6, det_db_unclip_ratio=1.5, max_batch_size=10, use_dilation=False, det_db_score_mode='fast', det_east_score_thresh=0.8, det_east_cover_thresh=0.1, det_east_nms_thresh=0.2, det_sast_score_thresh=0.5, det_sast_nms_thresh=0.2, det_pse_thresh=0, det_pse_box_thresh=0.85, det_pse_min_area=16, det_pse_scale=1, scales=[8, 16, 32], alpha=1.0, beta=1.0, fourier_degree=5, rec_algorithm='SVTR_LCNet', rec_model_dir='/home/hi-born4/.paddleocr/whl/rec/en/en_PP-OCRv4_rec_infer', rec_image_inverse=True, rec_image_shape='3, 48, 320', rec_batch_num=6, max_text_length=25, rec_char_dict_path='/home/hi-born4/Bristlecone/AI-powered document processing and extraction system/venv/lib/python3.11/site-packages/paddleocr/ppocr/utils/en_dict.txt', use_space_char=True, vis_font_path='./doc/fonts/simfang.ttf', drop_score=0.5, e2e_algorithm='PGNet', e2e_model_dir=None, e2e_limit_side_len=768, e2e_limit_type='max', e2e_pgnet_score_thresh=0.5, e2e_char_dict_path='./ppocr/utils/ic15_dict.txt', e2e_pgnet_valid_set='totaltext', e2e_pgnet_mode='fast', use_angle_cls=True, cls_model_dir='/home/hi-born4/.paddleocr/whl/cls/ch_ppocr_mobile_v2.0_cls_infer', cls_image_shape='3, 48, 192', label_list=['0', '180'], cls_batch_num=6, cls_thresh=0.9, enable_mkldnn=False, cpu_threads=10, use_pdserving=False, warmup=False, sr_model_dir=None, sr_image_shape='3, 32, 128', sr_batch_num=1, draw_img_save_dir='./inference_results', save_crop_res=False, crop_res_save_dir='./output', use_mp=False, total_process_num=1, process_id=0, benchmark=False, save_log_path='./log_output/', show_log=True, use_onnx=False, output='./output', table_max_len=488, table_algorithm='TableAttn', table_model_dir=None, merge_no_span_structure=True, table_char_dict_path=None, layout_model_dir=None, layout_dict_path=None, layout_score_threshold=0.5, layout_nms_threshold=0.5, kie_algorithm='LayoutXLM', ser_model_dir=None, re_model_dir=None, use_visual_backbone=True, ser_dict_path='../train_data/XFUND/class_list_xfun.txt', ocr_order_method=None, mode='structure', image_orientation=False, layout=True, table=True, ocr=True, recovery=False, use_pdf2docx_api=False, invert=False, binarize=False, alphacolor=(255, 255, 255), lang='en', det=True, rec=True, type='ocr', ocr_version='PP-OCRv4', structure_version='PP-StructureV2')\n",
            "[2024/05/27 14:38:37] ppocr DEBUG: dt_boxes num : 131, elapsed : 0.2499685287475586\n",
            "[2024/05/27 14:38:37] ppocr DEBUG: cls num  : 131, elapsed : 0.24781441688537598\n",
            "[2024/05/27 14:38:44] ppocr DEBUG: rec_res num  : 131, elapsed : 6.856670141220093\n"
          ]
        }
      ],
      "source": [
        "ocr = PaddleOCR(lang='en', use_angle_cls=True, use_gpu=False)\n",
        "image_path = 'pages/page0.png'\n",
        "image_cv = cv2.imread(image_path)\n",
        "image_height = image_cv.shape[0]\n",
        "image_width = image_cv.shape[1]\n",
        "output = ocr.ocr(image_path)[0]"
      ]
    },
    {
      "cell_type": "code",
      "execution_count": 83,
      "metadata": {
        "colab": {
          "base_uri": "https://localhost:8080/"
        },
        "id": "VBIDZA0XLDeA",
        "outputId": "b86018c1-5b24-4897-9174-a34299909bf7"
      },
      "outputs": [
        {
          "name": "stdout",
          "output_type": "stream",
          "text": [
            "[[[[518.0, 25.0], [788.0, 26.0], [788.0, 46.0], [518.0, 45.0]], ('JSWSTEELLIMITED', 0.9948813915252686)], [[[1053.0, 26.0], [1142.0, 26.0], [1142.0, 42.0], [1053.0, 42.0]], ('IS513_PART2', 0.9864535927772522)], [[[354.0, 45.0], [951.0, 46.0], [951.0, 65.0], [354.0, 64.0]], ('Vijayanagar WorksPO-Vidyanagar,Village-Toranagallu,DistBellaryKarnataka-583275,INDIA', 0.9570834040641785)], [[[1060.0, 46.0], [1143.0, 50.0], [1140.0, 108.0], [1057.0, 104.0]], ('ST', 0.5111318230628967)], [[[393.0, 61.0], [934.0, 61.0], [934.0, 80.0], [393.0, 80.0]], ('Regd.Office:JSw CentreBandra Kurla ComplexBandra East)Mumbai-400 051', 0.9430705904960632)], [[[290.0, 77.0], [1014.0, 81.0], [1014.0, 102.0], [290.0, 97.0]], ('TEST CERTIFICATE FOR COLD REDUCED CARBON STEEL SHEET & STRIP PART 2 (HIGH', 0.9362220168113708)], [[[503.0, 93.0], [804.0, 96.0], [804.0, 116.0], [503.0, 113.0]], ('TENSILE AND MULTI-PHASE STEEL)', 0.9654170870780945)], [[[1053.0, 118.0], [1172.0, 118.0], [1172.0, 132.0], [1053.0, 132.0]], ('CM/L-6200107888', 0.9738935232162476)], [[[54.0, 135.0], [370.0, 135.0], [370.0, 149.0], [54.0, 149.0]], ('Test CertificateCRCA/23-24/0003300894', 0.9809203147888184)], [[[709.0, 135.0], [769.0, 138.0], [768.0, 156.0], [708.0, 152.0]], ('Part No.', 0.9656884670257568)], [[[827.0, 136.0], [1043.0, 138.0], [1042.0, 154.0], [827.0, 152.0]], ('CH_MM24_HSLA3400.81245Date', 0.9552040100097656)], [[[1094.0, 139.0], [1180.0, 139.0], [1180.0, 154.0], [1094.0, 154.0]], ('05.01.2024', 0.9898476600646973)], [[[51.0, 154.0], [356.0, 154.0], [356.0, 173.0], [51.0, 173.0]], ('To M/S.Mahindra Auto Steel PVT.LTD', 0.9390690326690674)], [[[711.0, 158.0], [785.0, 158.0], [785.0, 174.0], [711.0, 174.0]], ('Part Name', 0.9845960140228271)], [[[1010.0, 158.0], [1208.0, 158.0], [1208.0, 177.0], [1010.0, 177.0]], ('SO No./ltem402132338/10', 0.8997997045516968)], [[[123.0, 176.0], [214.0, 176.0], [214.0, 192.0], [123.0, 192.0]], ('Plot No.C23/1', 0.9551538825035095)], [[[1010.0, 175.0], [1062.0, 179.0], [1060.0, 198.0], [1009.0, 194.0]], ('Product', 0.9899731874465942)], [[[1092.0, 174.0], [1153.0, 177.0], [1152.0, 198.0], [1091.0, 194.0]], ('CRCA', 0.9902081489562988)], [[[121.0, 194.0], [289.0, 196.0], [288.0, 212.0], [121.0, 210.0]], ('PUNE-410501Region13', 0.9657797813415527)], [[[1010.0, 195.0], [1057.0, 199.0], [1056.0, 215.0], [1009.0, 211.0]], ('PO NO.', 0.8285841941833496)], [[[1093.0, 197.0], [1343.0, 200.0], [1342.0, 216.0], [1092.0, 213.0]], ('W_6710705839/R2120801245UN/Dec', 0.9895776510238647)], [[[47.0, 218.0], [1304.0, 223.0], [1304.0, 242.0], [47.0, 236.0]], ('Il is certified that the material described below fully conforms to IS 513_PART2.Chemical composition and Mechanical properties of the product, as tested in accordance with the Scheme of', 0.9508950710296631)], [[[194.0, 235.0], [1158.0, 238.0], [1158.0, 257.0], [194.0, 254.0]], ('Testing & Inspection contained in the BlS certification marks Licence No.CM/L -6200107888 are as indicated below against each order No.Etc.', 0.9604261517524719)], [[[398.0, 255.0], [955.0, 257.0], [955.0, 273.0], [398.0, 271.0]], ('(PLEASE REFER TOIS513_PART2 FOR DETAILS OF SPECIFICATION REQUIREMENTS)', 0.9557989835739136)], [[[6.0, 277.0], [248.0, 277.0], [248.0, 292.0], [6.0, 292.0]], ('IS GRADEIS 513_PART2_2016 ISC410LA', 0.9355955719947815)], [[[640.0, 280.0], [754.0, 282.0], [754.0, 298.0], [640.0, 296.0]], ('TEST RESULTS', 0.9599848389625549)], [[[9.0, 303.0], [300.0, 303.0], [300.0, 318.0], [9.0, 318.0]], ('Specification:MAHINDRAG_00_0167_06_2015', 0.9720277190208435)], [[[398.0, 303.0], [417.0, 309.0], [413.0, 320.0], [394.0, 314.0]], ('C%', 0.757439136505127)], [[[431.0, 305.0], [464.0, 305.0], [464.0, 321.0], [431.0, 321.0]], ('Mn%', 0.993772029876709)], [[[477.0, 305.0], [503.0, 305.0], [503.0, 321.0], [477.0, 321.0]], ('S%', 0.9605847001075745)], [[[521.0, 303.0], [546.0, 303.0], [546.0, 321.0], [521.0, 321.0]], ('P%', 0.9852561950683594)], [[[561.0, 305.0], [588.0, 305.0], [588.0, 321.0], [561.0, 321.0]], ('Si%', 0.9827601909637451)], [[[604.0, 305.0], [631.0, 305.0], [631.0, 321.0], [604.0, 321.0]], ('Al %', 0.7757976055145264)], [[[647.0, 305.0], [671.0, 305.0], [671.0, 321.0], [647.0, 321.0]], ('N%', 0.8862617015838623)], [[[687.0, 305.0], [715.0, 305.0], [715.0, 321.0], [687.0, 321.0]], ('Ti%', 0.9422972798347473)], [[[733.0, 305.0], [754.0, 305.0], [754.0, 322.0], [733.0, 322.0]], ('YS', 0.9770358800888062)], [[[771.0, 305.0], [808.0, 305.0], [808.0, 321.0], [771.0, 321.0]], ('UTS', 0.9670326113700867)], [[[804.0, 306.0], [883.0, 306.0], [883.0, 322.0], [804.0, 322.0]], ('GL (mmEL%', 0.8771896958351135)], [[[895.0, 306.0], [931.0, 306.0], [931.0, 322.0], [895.0, 322.0]], ('Ra m', 0.9949408769607544)], [[[96.0, 322.0], [200.0, 322.0], [200.0, 338.0], [96.0, 338.0]], ('MM24_HSLA340', 0.9632743000984192)], [[[350.0, 325.0], [378.0, 325.0], [378.0, 337.0], [350.0, 337.0]], ('(MT)', 0.984215497970581)], [[[727.0, 325.0], [764.0, 325.0], [764.0, 342.0], [727.0, 342.0]], ('(Mpa)', 0.8178936243057251)], [[[765.0, 325.0], [801.0, 325.0], [801.0, 341.0], [765.0, 341.0]], ('MPa', 0.9905056953430176)], [[[16.0, 345.0], [71.0, 345.0], [71.0, 361.0], [16.0, 361.0]], ('Heat No.', 0.9441862106323242)], [[[93.0, 345.0], [146.0, 345.0], [146.0, 361.0], [93.0, 361.0]], ('Coil No.', 0.9656171798706055)], [[[177.0, 344.0], [310.0, 344.0], [310.0, 363.0], [177.0, 363.0]], ('Nominal Size MM', 0.9684833884239197)], [[[350.0, 345.0], [378.0, 345.0], [378.0, 361.0], [350.0, 361.0]], ('Min', 0.9985198974609375)], [[[600.0, 343.0], [633.0, 347.0], [631.0, 365.0], [598.0, 361.0]], ('0.015', 0.9890567064285278)], [[[731.0, 347.0], [755.0, 347.0], [755.0, 363.0], [731.0, 363.0]], ('340', 0.9952999949455261)], [[[775.0, 343.0], [798.0, 348.0], [794.0, 365.0], [772.0, 360.0]], ('410', 0.9968809485435486)], [[[820.0, 351.0], [835.0, 351.0], [835.0, 361.0], [820.0, 361.0]], ('80', 0.9875787496566772)], [[[855.0, 350.0], [887.0, 350.0], [887.0, 361.0], [855.0, 361.0]], ('21.00', 0.9939988255500793)], [[[901.0, 350.0], [927.0, 350.0], [927.0, 361.0], [901.0, 361.0]], ('0.80', 0.9920995235443115)], [[[7.0, 369.0], [83.0, 369.0], [83.0, 384.0], [7.0, 384.0]], ('Mother Coil', 0.977308452129364)], [[[177.0, 366.0], [186.0, 375.0], [179.0, 383.0], [169.0, 374.0]], ('T', 0.6153052449226379)], [[[203.0, 370.0], [217.0, 370.0], [217.0, 383.0], [203.0, 383.0]], ('X', 0.7103271484375)], [[[238.0, 370.0], [257.0, 370.0], [257.0, 383.0], [238.0, 383.0]], ('W', 0.8163056373596191)], [[[284.0, 365.0], [295.0, 374.0], [284.0, 388.0], [273.0, 379.0]], ('+', 0.5856341123580933)], [[[347.0, 369.0], [380.0, 369.0], [380.0, 384.0], [347.0, 384.0]], ('Max', 0.9960968494415283)], [[[385.0, 368.0], [422.0, 372.0], [420.0, 386.0], [384.0, 383.0]], ('0.1000', 0.9855356216430664)], [[[437.0, 373.0], [458.0, 373.0], [458.0, 383.0], [437.0, 383.0]], ('1.10', 0.9905045032501221)], [[[476.0, 373.0], [504.0, 373.0], [504.0, 383.0], [476.0, 383.0]], ('0.025', 0.9957792162895203)], [[[517.0, 373.0], [547.0, 373.0], [547.0, 383.0], [517.0, 383.0]], ('0.025', 0.9966503381729126)], [[[561.0, 373.0], [590.0, 373.0], [590.0, 384.0], [561.0, 384.0]], ('0.500', 0.9971769452095032)], [[[603.0, 373.0], [630.0, 373.0], [630.0, 384.0], [603.0, 384.0]], ('0.070', 0.99778813123703)], [[[643.0, 373.0], [676.0, 373.0], [676.0, 383.0], [643.0, 383.0]], ('0.0070', 0.9993007183074951)], [[[684.0, 370.0], [713.0, 373.0], [712.0, 385.0], [682.0, 381.0]], ('0.150', 0.963863730430603)], [[[734.0, 373.0], [754.0, 373.0], [754.0, 384.0], [734.0, 384.0]], ('420', 0.9979085922241211)], [[[775.0, 368.0], [796.0, 372.0], [793.0, 388.0], [772.0, 384.0]], ('510', 0.9977031350135803)], [[[901.0, 371.0], [927.0, 371.0], [927.0, 387.0], [901.0, 387.0]], ('1.40', 0.9638746380805969)], [[[23.0, 392.0], [69.0, 392.0], [69.0, 408.0], [23.0, 408.0]], ('D955015', 0.9967993497848511)], [[[89.0, 393.0], [151.0, 393.0], [151.0, 408.0], [89.0, 408.0]], ('NC65081000', 0.9981516003608704)], [[[189.0, 393.0], [297.0, 393.0], [297.0, 408.0], [189.0, 408.0]], ('0.800X1245.0XCoil', 0.9392437934875488)], [[[348.0, 395.0], [376.0, 395.0], [376.0, 406.0], [348.0, 406.0]], ('7.490', 0.9941655397415161)], [[[387.0, 391.0], [423.0, 395.0], [422.0, 411.0], [385.0, 407.0]], ('0.0690', 0.9915552139282227)], [[[436.0, 393.0], [461.0, 393.0], [461.0, 409.0], [436.0, 409.0]], ('0.62', 0.9902032613754272)], [[[474.0, 393.0], [506.0, 393.0], [506.0, 409.0], [474.0, 409.0]], ('.0.004', 0.9249404072761536)], [[[516.0, 393.0], [548.0, 393.0], [548.0, 409.0], [516.0, 409.0]], ('0.015', 0.9966626167297363)], [[[558.0, 393.0], [591.0, 393.0], [591.0, 409.0], [558.0, 409.0]], ('0.022', 0.9720823168754578)], [[[601.0, 393.0], [631.0, 393.0], [631.0, 409.0], [601.0, 409.0]], ('0.056', 0.9929648637771606)], [[[643.0, 396.0], [676.0, 396.0], [676.0, 408.0], [643.0, 408.0]], ('0.0040', 0.9974566102027893)], [[[686.0, 395.0], [715.0, 395.0], [715.0, 411.0], [686.0, 411.0]], ('0.036', 0.9982520937919617)], [[[731.0, 393.0], [754.0, 393.0], [754.0, 411.0], [731.0, 411.0]], ('394', 0.6315255761146545)], [[[773.0, 393.0], [797.0, 393.0], [797.0, 411.0], [773.0, 411.0]], ('470', 0.9957169890403748)], [[[820.0, 396.0], [835.0, 396.0], [835.0, 411.0], [820.0, 411.0]], ('80', 0.9943556189537048)], [[[854.0, 395.0], [887.0, 395.0], [887.0, 411.0], [854.0, 411.0]], ('28.10', 0.9697709083557129)], [[[900.0, 395.0], [927.0, 395.0], [927.0, 412.0], [900.0, 412.0]], ('0.86', 0.9081240296363831)], [[[16.0, 414.0], [76.0, 414.0], [76.0, 428.0], [16.0, 428.0]], ('NC65080000', 0.995434582233429)], [[[21.0, 434.0], [67.0, 434.0], [67.0, 450.0], [21.0, 450.0]], ('D955015', 0.9973902106285095)], [[[90.0, 435.0], [151.0, 435.0], [151.0, 450.0], [90.0, 450.0]], ('NC65082000', 0.9992998242378235)], [[[189.0, 435.0], [297.0, 435.0], [297.0, 450.0], [189.0, 450.0]], ('0.800X1245.0XCol', 0.9242334365844727)], [[[347.0, 437.0], [378.0, 437.0], [378.0, 448.0], [347.0, 448.0]], ('15.845', 0.9971046447753906)], [[[391.0, 438.0], [421.0, 438.0], [421.0, 448.0], [391.0, 448.0]], ('0.0690', 0.9981244206428528)], [[[436.0, 435.0], [461.0, 435.0], [461.0, 451.0], [436.0, 451.0]], ('0.62', 0.9889185428619385)], [[[474.0, 435.0], [507.0, 435.0], [507.0, 451.0], [474.0, 451.0]], ('0.004', 0.9887956380844116)], [[[516.0, 435.0], [550.0, 435.0], [550.0, 451.0], [516.0, 451.0]], ('0.015', 0.9930779337882996)], [[[560.0, 433.0], [592.0, 437.0], [590.0, 453.0], [558.0, 449.0]], ('0.022', 0.9942129850387573)], [[[601.0, 437.0], [633.0, 437.0], [633.0, 453.0], [601.0, 453.0]], ('0.056', 0.9915522336959839)], [[[641.0, 437.0], [680.0, 437.0], [680.0, 453.0], [641.0, 453.0]], ('0.0040', 0.9927847981452942)], [[[686.0, 437.0], [717.0, 437.0], [717.0, 453.0], [686.0, 453.0]], ('0.036', 0.9945651292800903)], [[[734.0, 438.0], [755.0, 438.0], [755.0, 453.0], [734.0, 453.0]], ('364', 0.995859682559967)], [[[774.0, 437.0], [797.0, 437.0], [797.0, 454.0], [774.0, 454.0]], ('470', 0.997633695602417)], [[[816.0, 439.0], [832.0, 434.0], [836.0, 449.0], [820.0, 454.0]], ('80', 0.9686234593391418)], [[[854.0, 433.0], [887.0, 437.0], [885.0, 455.0], [852.0, 451.0]], ('28.10', 0.9910338521003723)], [[[902.0, 433.0], [927.0, 438.0], [925.0, 455.0], [899.0, 450.0]], ('0.86', 0.9973416328430176)], [[[14.0, 456.0], [71.0, 456.0], [71.0, 470.0], [14.0, 470.0]], ('NC6508000', 0.9968181252479553)], [[[10.0, 473.0], [203.0, 476.0], [203.0, 495.0], [10.0, 492.0]], ('Total Weight in Metric Tonnes', 0.9817764759063721)], [[[341.0, 477.0], [628.0, 477.0], [628.0, 492.0], [341.0, 492.0]], ('23.335 Grand Total of Coils/Pkt/Bundles/Slab', 0.95259690284729)], [[[600.0, 607.0], [724.0, 577.0], [729.0, 602.0], [606.0, 631.0]], ('535331', 0.8621258735656738)], [[[13.0, 702.0], [848.0, 705.0], [848.0, 724.0], [13.0, 721.0]], ('This is lo certify that the above mentioned product produced & supplied by us, do not contain any radio active element higher than the natural', 0.9394453763961792)], [[[11.0, 718.0], [844.0, 720.0], [844.0, 739.0], [11.0, 737.0]], ('level and it confirms lo Standard Rolling.Dimensional & Weight tolerences.The product or packing material does not contain any hazardous', 0.9438806176185608)], [[[13.0, 736.0], [204.0, 736.0], [204.0, 750.0], [13.0, 750.0]], ('substances as per RoHS norms', 0.9404894709587097)], [[[11.0, 766.0], [79.0, 766.0], [79.0, 782.0], [11.0, 782.0]], ('Delivery ID', 0.9601097106933594)], [[[123.0, 766.0], [204.0, 766.0], [204.0, 781.0], [123.0, 781.0]], ('714956638', 0.9981043934822083)], [[[248.0, 768.0], [304.0, 768.0], [304.0, 782.0], [248.0, 782.0]], ('Legends:', 0.9854742884635925)], [[[334.0, 762.0], [840.0, 765.0], [840.0, 785.0], [334.0, 782.0]], ('Chemistry= Laddle Sample analysis1Mpa=1N/mm2T x W x L=Thickness x Width x Length', 0.9232375025749207)], [[[336.0, 781.0], [870.0, 784.0], [870.0, 802.0], [336.0, 799.0]], ('YS=Yield StrengthUTS =Ultimate Tensile Strength.%EL=%ge Elongation on standard gauge length', 0.9554292559623718)], [[[1158.0, 781.0], [1286.0, 793.0], [1284.0, 819.0], [1156.0, 807.0]], ('L.Gn.naid', 0.6099925637245178)], [[[11.0, 795.0], [79.0, 795.0], [79.0, 811.0], [11.0, 811.0]], ('Invoice No.', 0.953484296798706)], [[[123.0, 795.0], [210.0, 795.0], [210.0, 810.0], [123.0, 810.0]], ('7106382091', 0.997842013835907)], [[[13.0, 824.0], [109.0, 824.0], [109.0, 840.0], [13.0, 840.0]], ('GST Invoice No', 0.9217158555984497)], [[[121.0, 826.0], [241.0, 826.0], [241.0, 840.0], [121.0, 840.0]], ('23VJ2900487244', 0.9971141815185547)], [[[1167.0, 824.0], [1320.0, 830.0], [1319.0, 855.0], [1166.0, 848.0]], ('.G.NAU', 0.8008983731269836)], [[[11.0, 853.0], [171.0, 853.0], [171.0, 872.0], [11.0, 872.0]], ('Mode of Transport:Truck', 0.9592490196228027)], [[[1154.0, 859.0], [1291.0, 859.0], [1291.0, 878.0], [1154.0, 878.0]], ('Authorised Signatory', 0.9698912501335144)], [[[13.0, 884.0], [80.0, 884.0], [80.0, 900.0], [13.0, 900.0]], ('Vehicle No.', 0.9093683362007141)], [[[124.0, 884.0], [217.0, 884.0], [217.0, 898.0], [124.0, 898.0]], ('TN37DF9601', 0.9858329892158508)], [[[11.0, 913.0], [54.0, 913.0], [54.0, 929.0], [11.0, 929.0]], ('LC No.', 0.8705986142158508)], [[[250.0, 917.0], [312.0, 920.0], [311.0, 936.0], [250.0, 933.0]], ('Remarks:', 0.969162106513977)]]\n"
          ]
        }
      ],
      "source": [
        "print(output)"
      ]
    },
    {
      "cell_type": "code",
      "execution_count": 84,
      "metadata": {
        "id": "nNMBAQ78LDgG"
      },
      "outputs": [],
      "source": [
        "boxes = [line[0] for line in output]\n",
        "texts = [line[1][0] for line in output]\n",
        "probabilities = [line[1][1] for line in output]"
      ]
    },
    {
      "cell_type": "code",
      "execution_count": 85,
      "metadata": {
        "id": "uukcg4SWV_dg"
      },
      "outputs": [],
      "source": [
        "image_boxes = image_cv.copy()\n"
      ]
    },
    {
      "cell_type": "code",
      "execution_count": 86,
      "metadata": {
        "id": "l_HzbiA7V_fw"
      },
      "outputs": [],
      "source": [
        "for box,text in zip(boxes,texts):\n",
        "  cv2.rectangle(image_boxes, (int(box[0][0]),int(box[0][1])), (int(box[2][0]),int(box[2][1])),(0,0,255),1)\n",
        "  cv2.putText(image_boxes, text,(int(box[0][0]),int(box[0][1])),cv2.FONT_HERSHEY_SIMPLEX,1,(222,0,0),1)"
      ]
    },
    {
      "cell_type": "code",
      "execution_count": 87,
      "metadata": {
        "colab": {
          "base_uri": "https://localhost:8080/"
        },
        "id": "PfUG9mcgV_iJ",
        "outputId": "b97aaa44-61b9-4a62-dd01-c8c26b66e9c7"
      },
      "outputs": [
        {
          "data": {
            "text/plain": [
              "True"
            ]
          },
          "execution_count": 87,
          "metadata": {},
          "output_type": "execute_result"
        }
      ],
      "source": [
        "cv2.imwrite('detections.jpg', image_boxes)"
      ]
    },
    {
      "cell_type": "markdown",
      "metadata": {
        "id": "kYWt0lzDHZNp"
      },
      "source": [
        "# Reconstruction"
      ]
    },
    {
      "cell_type": "markdown",
      "metadata": {
        "id": "ruzifYJz4H6y"
      },
      "source": [
        "## Get Horizontal and Vertical Lines"
      ]
    },
    {
      "cell_type": "code",
      "execution_count": 88,
      "metadata": {
        "id": "YLIoKedcqby_"
      },
      "outputs": [],
      "source": [
        "im = image_cv.copy()"
      ]
    },
    {
      "cell_type": "code",
      "execution_count": 89,
      "metadata": {
        "id": "GwcAAe-wccnF"
      },
      "outputs": [],
      "source": [
        "horiz_boxes = []\n",
        "vert_boxes = []\n",
        "\n",
        "for box in boxes:\n",
        "  x_h, x_v = 0,int(box[0][0])\n",
        "  y_h, y_v = int(box[0][1]),0\n",
        "  width_h,width_v = image_width, int(box[2][0]-box[0][0])\n",
        "  height_h,height_v = int(box[2][1]-box[0][1]),image_height\n",
        "\n",
        "  horiz_boxes.append([x_h,y_h,x_h+width_h,y_h+height_h])\n",
        "  vert_boxes.append([x_v,y_v,x_v+width_v,y_v+height_v])\n",
        "\n",
        "  cv2.rectangle(im,(x_h,y_h), (x_h+width_h,y_h+height_h),(0,0,255),1)\n",
        "  cv2.rectangle(im,(x_v,y_v), (x_v+width_v,y_v+height_v),(0,255,0),1)\n"
      ]
    },
    {
      "cell_type": "code",
      "execution_count": 90,
      "metadata": {
        "colab": {
          "base_uri": "https://localhost:8080/"
        },
        "id": "7UxFGhMkccph",
        "outputId": "344b62aa-8bbf-46e0-ccea-bd1c5eb60e3a"
      },
      "outputs": [
        {
          "data": {
            "text/plain": [
              "True"
            ]
          },
          "execution_count": 90,
          "metadata": {},
          "output_type": "execute_result"
        }
      ],
      "source": [
        "cv2.imwrite('horiz_vert.jpg',im)"
      ]
    },
    {
      "cell_type": "markdown",
      "metadata": {
        "id": "ekVFvJrM4ROL"
      },
      "source": [
        "## Non-Max Suppression"
      ]
    },
    {
      "cell_type": "code",
      "execution_count": 91,
      "metadata": {
        "id": "4LVSSB2fcoe7"
      },
      "outputs": [],
      "source": [
        "horiz_out = tf.image.non_max_suppression(\n",
        "    horiz_boxes,\n",
        "    probabilities,\n",
        "    max_output_size = 1000,\n",
        "    iou_threshold=0.1,\n",
        "    score_threshold=float('-inf'),\n",
        "    name=None\n",
        ")"
      ]
    },
    {
      "cell_type": "code",
      "execution_count": 92,
      "metadata": {
        "colab": {
          "base_uri": "https://localhost:8080/"
        },
        "id": "pOboYpGnccr2",
        "outputId": "02933914-32bb-4b3d-88bb-72745b6dda8b"
      },
      "outputs": [
        {
          "name": "stdout",
          "output_type": "stream",
          "text": [
            "[  0   2   6   7  11  13  17  20  22  23  25  38  42  46  65  81  87  89\n",
            " 105 106 108 110 111 113 119 121 124 126 128]\n"
          ]
        }
      ],
      "source": [
        "horiz_lines = np.sort(np.array(horiz_out))\n",
        "print(horiz_lines)"
      ]
    },
    {
      "cell_type": "code",
      "execution_count": 93,
      "metadata": {
        "id": "pfxHrn3iccyK"
      },
      "outputs": [],
      "source": [
        "im_nms = image_cv.copy()"
      ]
    },
    {
      "cell_type": "code",
      "execution_count": 94,
      "metadata": {
        "id": "68PCHfmZcc0L"
      },
      "outputs": [],
      "source": [
        "for val in horiz_lines:\n",
        "  cv2.rectangle(im_nms, (int(horiz_boxes[val][0]),int(horiz_boxes[val][1])), (int(horiz_boxes[val][2]),int(horiz_boxes[val][3])),(0,0,255),1)\n"
      ]
    },
    {
      "cell_type": "code",
      "execution_count": 95,
      "metadata": {
        "colab": {
          "base_uri": "https://localhost:8080/"
        },
        "id": "Z8r9qpiAcc2X",
        "outputId": "9510d3cf-3870-4c77-b9ff-dd903f9a7902"
      },
      "outputs": [
        {
          "data": {
            "text/plain": [
              "True"
            ]
          },
          "execution_count": 95,
          "metadata": {},
          "output_type": "execute_result"
        }
      ],
      "source": [
        "cv2.imwrite('im_nms.jpg',im_nms)"
      ]
    },
    {
      "cell_type": "code",
      "execution_count": 96,
      "metadata": {
        "id": "mKgPuh7rcc4s"
      },
      "outputs": [],
      "source": [
        "vert_out = tf.image.non_max_suppression(\n",
        "    vert_boxes,\n",
        "    probabilities,\n",
        "    max_output_size = 1000,\n",
        "    iou_threshold=0.1,\n",
        "    score_threshold=float('-inf'),\n",
        "    name=None\n",
        ")"
      ]
    },
    {
      "cell_type": "code",
      "execution_count": 97,
      "metadata": {
        "colab": {
          "base_uri": "https://localhost:8080/"
        },
        "id": "GBpKsImVcc6p",
        "outputId": "f7bfbf04-9318-4230-f9df-98101fc7cadd"
      },
      "outputs": [
        {
          "name": "stdout",
          "output_type": "stream",
          "text": [
            "tf.Tensor(\n",
            "[ 65  89  46  81  92  67  64  68  88 104  63  77  61  84  51  28  17  16\n",
            " 114 124  22  55  54  57], shape=(24,), dtype=int32)\n"
          ]
        }
      ],
      "source": [
        "print(vert_out)"
      ]
    },
    {
      "cell_type": "code",
      "execution_count": 98,
      "metadata": {
        "colab": {
          "base_uri": "https://localhost:8080/"
        },
        "id": "K0lBh-yz5YLp",
        "outputId": "31a4ea8a-27ce-4b53-9bdb-9857c65ebdaa"
      },
      "outputs": [
        {
          "name": "stdout",
          "output_type": "stream",
          "text": [
            "[ 16  17  22  28  46  51  54  55  57  61  63  64  65  67  68  77  81  84\n",
            "  88  89  92 104 114 124]\n"
          ]
        }
      ],
      "source": [
        "vert_lines = np.sort(np.array(vert_out))\n",
        "print(vert_lines)"
      ]
    },
    {
      "cell_type": "code",
      "execution_count": 99,
      "metadata": {
        "id": "WqsLm0L_cc84"
      },
      "outputs": [],
      "source": [
        "for val in vert_lines:\n",
        "  cv2.rectangle(im_nms, (int(vert_boxes[val][0]),int(vert_boxes[val][1])), (int(vert_boxes[val][2]),int(vert_boxes[val][3])),(255,0,0),1)\n"
      ]
    },
    {
      "cell_type": "code",
      "execution_count": 100,
      "metadata": {
        "colab": {
          "base_uri": "https://localhost:8080/"
        },
        "id": "xZOEa7lpcdGM",
        "outputId": "a92cbce5-7529-4b3b-f4b5-2c016904ab21"
      },
      "outputs": [
        {
          "data": {
            "text/plain": [
              "True"
            ]
          },
          "execution_count": 100,
          "metadata": {},
          "output_type": "execute_result"
        }
      ],
      "source": [
        "cv2.imwrite('im_nms.jpg',im_nms)"
      ]
    },
    {
      "cell_type": "markdown",
      "metadata": {
        "id": "116eBUrO93-i"
      },
      "source": [
        "## Convert to CSV"
      ]
    },
    {
      "cell_type": "code",
      "execution_count": 101,
      "metadata": {
        "colab": {
          "base_uri": "https://localhost:8080/"
        },
        "id": "HRQzwVUTcdIq",
        "outputId": "93b6914b-c713-48e0-ecaf-87a764a48d13"
      },
      "outputs": [
        {
          "name": "stdout",
          "output_type": "stream",
          "text": [
            "(29, 24)\n",
            "[['', '', '', '', '', '', '', '', '', '', '', '', '', '', '', '', '', '', '', '', '', '', '', ''], ['', '', '', '', '', '', '', '', '', '', '', '', '', '', '', '', '', '', '', '', '', '', '', ''], ['', '', '', '', '', '', '', '', '', '', '', '', '', '', '', '', '', '', '', '', '', '', '', ''], ['', '', '', '', '', '', '', '', '', '', '', '', '', '', '', '', '', '', '', '', '', '', '', ''], ['', '', '', '', '', '', '', '', '', '', '', '', '', '', '', '', '', '', '', '', '', '', '', ''], ['', '', '', '', '', '', '', '', '', '', '', '', '', '', '', '', '', '', '', '', '', '', '', ''], ['', '', '', '', '', '', '', '', '', '', '', '', '', '', '', '', '', '', '', '', '', '', '', ''], ['', '', '', '', '', '', '', '', '', '', '', '', '', '', '', '', '', '', '', '', '', '', '', ''], ['', '', '', '', '', '', '', '', '', '', '', '', '', '', '', '', '', '', '', '', '', '', '', ''], ['', '', '', '', '', '', '', '', '', '', '', '', '', '', '', '', '', '', '', '', '', '', '', ''], ['', '', '', '', '', '', '', '', '', '', '', '', '', '', '', '', '', '', '', '', '', '', '', ''], ['', '', '', '', '', '', '', '', '', '', '', '', '', '', '', '', '', '', '', '', '', '', '', ''], ['', '', '', '', '', '', '', '', '', '', '', '', '', '', '', '', '', '', '', '', '', '', '', ''], ['', '', '', '', '', '', '', '', '', '', '', '', '', '', '', '', '', '', '', '', '', '', '', ''], ['', '', '', '', '', '', '', '', '', '', '', '', '', '', '', '', '', '', '', '', '', '', '', ''], ['', '', '', '', '', '', '', '', '', '', '', '', '', '', '', '', '', '', '', '', '', '', '', ''], ['', '', '', '', '', '', '', '', '', '', '', '', '', '', '', '', '', '', '', '', '', '', '', ''], ['', '', '', '', '', '', '', '', '', '', '', '', '', '', '', '', '', '', '', '', '', '', '', ''], ['', '', '', '', '', '', '', '', '', '', '', '', '', '', '', '', '', '', '', '', '', '', '', ''], ['', '', '', '', '', '', '', '', '', '', '', '', '', '', '', '', '', '', '', '', '', '', '', ''], ['', '', '', '', '', '', '', '', '', '', '', '', '', '', '', '', '', '', '', '', '', '', '', ''], ['', '', '', '', '', '', '', '', '', '', '', '', '', '', '', '', '', '', '', '', '', '', '', ''], ['', '', '', '', '', '', '', '', '', '', '', '', '', '', '', '', '', '', '', '', '', '', '', ''], ['', '', '', '', '', '', '', '', '', '', '', '', '', '', '', '', '', '', '', '', '', '', '', ''], ['', '', '', '', '', '', '', '', '', '', '', '', '', '', '', '', '', '', '', '', '', '', '', ''], ['', '', '', '', '', '', '', '', '', '', '', '', '', '', '', '', '', '', '', '', '', '', '', ''], ['', '', '', '', '', '', '', '', '', '', '', '', '', '', '', '', '', '', '', '', '', '', '', ''], ['', '', '', '', '', '', '', '', '', '', '', '', '', '', '', '', '', '', '', '', '', '', '', ''], ['', '', '', '', '', '', '', '', '', '', '', '', '', '', '', '', '', '', '', '', '', '', '', '']]\n"
          ]
        }
      ],
      "source": [
        "\n",
        "\n",
        "out_array = [[\"\" for i in range(len(vert_lines))] for j in range(len(horiz_lines))]\n",
        "print(np.array(out_array).shape)\n",
        "print(out_array)"
      ]
    },
    {
      "cell_type": "code",
      "execution_count": 102,
      "metadata": {
        "colab": {
          "base_uri": "https://localhost:8080/"
        },
        "id": "sSrupaRZIAk_",
        "outputId": "61055c32-2de2-4a31-c36f-e3857a6cc939"
      },
      "outputs": [
        {
          "name": "stdout",
          "output_type": "stream",
          "text": [
            "[1010, 0, 1060, 975]\n",
            "[1092, 0, 1152, 975]\n",
            "[194, 0, 1158, 975]\n",
            "[431, 0, 464, 975]\n",
            "[350, 0, 378, 975]\n",
            "[855, 0, 887, 975]\n",
            "[177, 0, 179, 975]\n",
            "[203, 0, 217, 975]\n",
            "[284, 0, 284, 975]\n",
            "[476, 0, 504, 975]\n",
            "[561, 0, 590, 975]\n",
            "[603, 0, 630, 975]\n",
            "[643, 0, 676, 975]\n",
            "[734, 0, 754, 975]\n",
            "[775, 0, 793, 975]\n",
            "[516, 0, 548, 975]\n",
            "[686, 0, 715, 975]\n",
            "[820, 0, 835, 975]\n",
            "[21, 0, 67, 975]\n",
            "[90, 0, 151, 975]\n",
            "[391, 0, 421, 975]\n",
            "[902, 0, 925, 975]\n",
            "[248, 0, 304, 975]\n",
            "[1154, 0, 1291, 975]\n"
          ]
        }
      ],
      "source": [
        "\n",
        "unordered_boxes = []\n",
        "\n",
        "for i in vert_lines:\n",
        "  print(vert_boxes[i])\n",
        "  unordered_boxes.append(vert_boxes[i][0])"
      ]
    },
    {
      "cell_type": "code",
      "execution_count": 103,
      "metadata": {
        "colab": {
          "base_uri": "https://localhost:8080/"
        },
        "id": "lRMlVNh_HuJV",
        "outputId": "de3751a5-525d-4659-acbc-00d61fcbeba1"
      },
      "outputs": [
        {
          "name": "stdout",
          "output_type": "stream",
          "text": [
            "[18 19  6  2  7 22  8  4 20  3  9 15 10 11 12 16 13 14 17  5 21  0  1 23]\n"
          ]
        }
      ],
      "source": [
        "ordered_boxes = np.argsort(unordered_boxes)\n",
        "print(ordered_boxes)"
      ]
    },
    {
      "cell_type": "code",
      "execution_count": 104,
      "metadata": {
        "id": "AHHaxKUuC6jQ"
      },
      "outputs": [],
      "source": [
        "def intersection(box_1, box_2):\n",
        "  return [box_2[0], box_1[1],box_2[2], box_1[3]]"
      ]
    },
    {
      "cell_type": "code",
      "execution_count": 105,
      "metadata": {
        "id": "fDVb0DkxJSIf"
      },
      "outputs": [],
      "source": [
        "def iou(box_1, box_2):\n",
        "\n",
        "  x_1 = max(box_1[0], box_2[0])\n",
        "  y_1 = max(box_1[1], box_2[1])\n",
        "  x_2 = min(box_1[2], box_2[2])\n",
        "  y_2 = min(box_1[3], box_2[3])\n",
        "\n",
        "  inter = abs(max((x_2 - x_1, 0)) * max((y_2 - y_1), 0))\n",
        "  if inter == 0:\n",
        "      return 0\n",
        "\n",
        "  box_1_area = abs((box_1[2] - box_1[0]) * (box_1[3] - box_1[1]))\n",
        "  box_2_area = abs((box_2[2] - box_2[0]) * (box_2[3] - box_2[1]))\n",
        "\n",
        "  return inter / float(box_1_area + box_2_area - inter)"
      ]
    },
    {
      "cell_type": "code",
      "execution_count": 106,
      "metadata": {
        "id": "LWGhCwg6BIoL"
      },
      "outputs": [],
      "source": [
        "for i in range(len(horiz_lines)):\n",
        "  for j in range(len(vert_lines)):\n",
        "    resultant = intersection(horiz_boxes[horiz_lines[i]], vert_boxes[vert_lines[ordered_boxes[j]]] )\n",
        "\n",
        "    for b in range(len(boxes)):\n",
        "      the_box = [boxes[b][0][0],boxes[b][0][1],boxes[b][2][0],boxes[b][2][1]]\n",
        "      if(iou(resultant,the_box)>0.1):\n",
        "        out_array[i][j] = texts[b]"
      ]
    },
    {
      "cell_type": "code",
      "execution_count": 107,
      "metadata": {
        "id": "c4tEY9LGNIM9"
      },
      "outputs": [],
      "source": [
        "out_array=np.array(out_array)"
      ]
    },
    {
      "cell_type": "code",
      "execution_count": 108,
      "metadata": {
        "colab": {
          "base_uri": "https://localhost:8080/"
        },
        "id": "_ekto4-Ymxv2",
        "outputId": "f7a8e379-2879-4ed0-e8c0-4e127aacc50a"
      },
      "outputs": [
        {
          "data": {
            "text/plain": [
              "array([['', '', '', 'JSWSTEELLIMITED', '', '', '', '', '', '', '',\n",
              "        'JSWSTEELLIMITED', 'JSWSTEELLIMITED', '', 'JSWSTEELLIMITED',\n",
              "        'JSWSTEELLIMITED', '', '', '', '', '', '', 'IS513_PART2', ''],\n",
              "       ['', '', '',\n",
              "        'Vijayanagar WorksPO-Vidyanagar,Village-Toranagallu,DistBellaryKarnataka-583275,INDIA',\n",
              "        '', '', '', '', '', '', '', '', '', '', '', '', '', '', '', '',\n",
              "        '', '', 'ST', ''],\n",
              "       ['', '', '', 'TENSILE AND MULTI-PHASE STEEL)', '', '', '', '', '',\n",
              "        '', '', 'TENSILE AND MULTI-PHASE STEEL)', '', '',\n",
              "        'TENSILE AND MULTI-PHASE STEEL)', '', '', '', '', '', '', '',\n",
              "        'ST', ''],\n",
              "       ['', '', '', 'CM/L-6200107888', '', '', '', '', '', '', '', '',\n",
              "        '', '', '', '', '', '', '', '', '', '', 'CM/L-6200107888', ''],\n",
              "       ['', 'Test CertificateCRCA/23-24/0003300894', '',\n",
              "        'CH_MM24_HSLA3400.81245Date', '',\n",
              "        'Test CertificateCRCA/23-24/0003300894', '', '', '', '', '', '',\n",
              "        '', '', '', '', 'Part No.', '', '', 'CH_MM24_HSLA3400.81245Date',\n",
              "        '', 'CH_MM24_HSLA3400.81245Date', '05.01.2024', '05.01.2024'],\n",
              "       ['', 'To M/S.Mahindra Auto Steel PVT.LTD', '',\n",
              "        'SO No./ltem402132338/10', '',\n",
              "        'To M/S.Mahindra Auto Steel PVT.LTD', '', '', '', '', '', '', '',\n",
              "        '', '', '', 'Part Name', 'Part Name', '', '', '',\n",
              "        'SO No./ltem402132338/10', 'SO No./ltem402132338/10',\n",
              "        'SO No./ltem402132338/10'],\n",
              "       ['', 'Plot No.C23/1', '', '', 'Plot No.C23/1', '', '', '', '', '',\n",
              "        '', '', '', '', '', '', '', '', '', '', '', 'Product', 'CRCA',\n",
              "        ''],\n",
              "       ['', 'PUNE-410501Region13', '', '', '', 'PUNE-410501Region13', '',\n",
              "        '', '', '', '', '', '', '', '', '', '', '', '', '', '', 'PO NO.',\n",
              "        'W_6710705839/R2120801245UN/Dec',\n",
              "        'W_6710705839/R2120801245UN/Dec'],\n",
              "       ['', '', '',\n",
              "        'Testing & Inspection contained in the BlS certification marks Licence No.CM/L -6200107888 are as indicated below against each order No.Etc.',\n",
              "        '', '', '', '', '', '', '', '', '', '', '', '', '', '', '', '',\n",
              "        '', '', '', ''],\n",
              "       ['', '', '',\n",
              "        '(PLEASE REFER TOIS513_PART2 FOR DETAILS OF SPECIFICATION REQUIREMENTS)',\n",
              "        '', '', '', '', '', '', '', '', '', '', '', '', '', '', '', '',\n",
              "        '', '', '', ''],\n",
              "       ['IS GRADEIS 513_PART2_2016 ISC410LA',\n",
              "        'IS GRADEIS 513_PART2_2016 ISC410LA', '', 'TEST RESULTS', '', '',\n",
              "        '', '', '', '', '', '', '', '', 'TEST RESULTS', 'TEST RESULTS',\n",
              "        'TEST RESULTS', '', '', '', '', '', '', ''],\n",
              "       ['Specification:MAHINDRAG_00_0167_06_2015',\n",
              "        'Specification:MAHINDRAG_00_0167_06_2015', '', '', '',\n",
              "        'Specification:MAHINDRAG_00_0167_06_2015', '', '', 'C%', 'Mn%',\n",
              "        'S%', 'P%', 'Si%', 'Al %', 'N%', 'Ti%', 'YS', 'UTS', 'GL (mmEL%',\n",
              "        'GL (mmEL%', 'Ra m', '', '', ''],\n",
              "       ['', 'MM24_HSLA340', '', '', '', '', '', '(MT)', '', '', '', '',\n",
              "        '', '', '', '', '(Mpa)', 'MPa', '', '', '', '', '', ''],\n",
              "       ['Heat No.', 'Coil No.', '', 'Nominal Size MM', '',\n",
              "        'Nominal Size MM', '', 'Min', '', '', '', '', '', '0.015', '',\n",
              "        '', '340', '410', '80', '21.00', '0.80', '', '', ''],\n",
              "       ['Mother Coil', '', 'T', '', 'X', 'W', '', 'Max', '0.1000',\n",
              "        '1.10', '0.025', '0.025', '0.500', '0.070', '0.0070', '0.150',\n",
              "        '420', '510', '', '', '1.40', '', '', ''],\n",
              "       ['D955015', 'NC65081000', '', '', '0.800X1245.0XCoil',\n",
              "        '0.800X1245.0XCoil', '', '7.490', '0.0690', '0.62', '.0.004',\n",
              "        '0.015', '0.022', '0.056', '0.0040', '0.036', '394', '470', '80',\n",
              "        '28.10', '0.86', '', '', ''],\n",
              "       ['NC65080000', '', '', '', '', '', '', '', '', '', '', '', '', '',\n",
              "        '', '', '', '', '', '', '', '', '', ''],\n",
              "       ['D955015', 'NC65082000', '', '0.800X1245.0XCol',\n",
              "        '0.800X1245.0XCol', '0.800X1245.0XCol', '', '15.845', '0.0690',\n",
              "        '0.62', '0.004', '0.015', '0.022', '0.056', '0.0040', '0.036',\n",
              "        '364', '470', '80', '28.10', '0.86', '', '', ''],\n",
              "       ['NC6508000', '', '', '', '', '', '', '', '', '', '', '', '', '',\n",
              "        '', '', '', '', '', '', '', '', '', ''],\n",
              "       ['Total Weight in Metric Tonnes', 'Total Weight in Metric Tonnes',\n",
              "        '', '23.335 Grand Total of Coils/Pkt/Bundles/Slab', '', '', '',\n",
              "        '', '', '23.335 Grand Total of Coils/Pkt/Bundles/Slab', '',\n",
              "        '23.335 Grand Total of Coils/Pkt/Bundles/Slab', '', '', '', '',\n",
              "        '', '', '', '', '', '', '', ''],\n",
              "       ['', '', '', '', '', '', '', '', '', '', '', '', '', '', '', '',\n",
              "        '', '', '', '', '', '', '', ''],\n",
              "       ['', '', '',\n",
              "        'level and it confirms lo Standard Rolling.Dimensional & Weight tolerences.The product or packing material does not contain any hazardous',\n",
              "        '', '', '', '', '', '', '', '', '', '', '', '', '', '', '', '',\n",
              "        '', '', '', ''],\n",
              "       ['substances as per RoHS norms', 'substances as per RoHS norms',\n",
              "        '', '', '', '', '', '', '', '', '', '', '', '', '', '', '', '',\n",
              "        '', '', '', '', '', ''],\n",
              "       ['Delivery ID', '714956638', '',\n",
              "        'Chemistry= Laddle Sample analysis1Mpa=1N/mm2T x W x L=Thickness x Width x Length',\n",
              "        '', 'Legends:', '', '', '', '', '', '', '', '', '', '', '', '',\n",
              "        '', '', '', '', '', ''],\n",
              "       ['Invoice No.', '7106382091', '',\n",
              "        'YS=Yield StrengthUTS =Ultimate Tensile Strength.%EL=%ge Elongation on standard gauge length',\n",
              "        '', '', '', '', '', '', '', '', '', '', '', '', '', '', '', '',\n",
              "        '', '', '', 'L.Gn.naid'],\n",
              "       ['GST Invoice No', '23VJ2900487244', '', '', '23VJ2900487244', '',\n",
              "        '', '', '', '', '', '', '', '', '', '', '', '', '', '', '', '',\n",
              "        '', '.G.NAU'],\n",
              "       ['Mode of Transport:Truck', 'Mode of Transport:Truck', '', '', '',\n",
              "        '', '', '', '', '', '', '', '', '', '', '', '', '', '', '', '',\n",
              "        '', '', 'Authorised Signatory'],\n",
              "       ['Vehicle No.', 'TN37DF9601', '', '', 'TN37DF9601', '', '', '',\n",
              "        '', '', '', '', '', '', '', '', '', '', '', '', '', '', '', ''],\n",
              "       ['LC No.', '', '', '', '', 'Remarks:', '', '', '', '', '', '', '',\n",
              "        '', '', '', '', '', '', '', '', '', '', '']], dtype='<U139')"
            ]
          },
          "execution_count": 108,
          "metadata": {},
          "output_type": "execute_result"
        }
      ],
      "source": [
        "out_array"
      ]
    },
    {
      "cell_type": "code",
      "execution_count": 109,
      "metadata": {
        "id": "D8UdX80wBI9V"
      },
      "outputs": [],
      "source": [
        "pd.DataFrame(out_array).to_csv('sample.csv')"
      ]
    },
    {
      "cell_type": "markdown",
      "metadata": {
        "id": "E693Ela3qhLx"
      },
      "source": [
        "## Merging Cells"
      ]
    },
    {
      "cell_type": "code",
      "execution_count": 67,
      "metadata": {
        "colab": {
          "base_uri": "https://localhost:8080/"
        },
        "id": "XNcX7fEWPDfw",
        "outputId": "06cb1313-e8b8-4252-d305-f03fc03d14ed"
      },
      "outputs": [
        {
          "name": "stdout",
          "output_type": "stream",
          "text": [
            "['', '', '', '', '', '', '', '', '', '', '', '', '', '', '', '', '', '', '', '', '', '']\n"
          ]
        }
      ],
      "source": [
        "current_bank=['']*len(out_array[0,:])\n",
        "print(current_bank)"
      ]
    },
    {
      "cell_type": "code",
      "execution_count": 68,
      "metadata": {
        "id": "TTF5ojcCQJKR"
      },
      "outputs": [],
      "source": [
        "def empty(arr):\n",
        "  for i in arr:\n",
        "    if i=='':\n",
        "      return True\n",
        "  return False"
      ]
    },
    {
      "cell_type": "code",
      "execution_count": 69,
      "metadata": {
        "id": "3w1amnEXSVSB"
      },
      "outputs": [],
      "source": [
        "cleaned_array=[]"
      ]
    },
    {
      "cell_type": "code",
      "execution_count": 70,
      "metadata": {
        "colab": {
          "base_uri": "https://localhost:8080/"
        },
        "id": "W_q9e2EkPepQ",
        "outputId": "fba25f38-1e56-45c3-88fe-2211d38d4dca"
      },
      "outputs": [
        {
          "name": "stdout",
          "output_type": "stream",
          "text": [
            "--> [' S513PART2', ' ', ' CM/L-6200107888', ' 05.01.2024', ' SO No./tem402132338/10', ' CRCA', ' W_6710705839/R2120801245UN/Dec', ' ', ' ', ' ', ' ', ' ', ' ', ' ', ' ', ' ', ' ', ' ', ' G.NAOU)', ' Authorised Signatory', ' ', ' ']\n",
            "--> [' S513PART2 S513PART2', '  ', ' CM/L-6200107888 ', ' 05.01.2024 05.01.2024', ' SO No./tem402132338/10 ', ' CRCA .', ' W_6710705839/R2120801245UN/Dec ', '  ', '  ', '  ', '  ', '  ', '  ', '  ', '  ', '  ', '  ', '  ', ' G.NAOU) ', ' Authorised Signatory ', '  ', '  ']\n",
            "--> [' S513PART2 S513PART2 ', '   ', ' CM/L-6200107888  ', ' 05.01.2024 05.01.2024 CH_MM24_HSLA3400.81245Dale', ' SO No./tem402132338/10  SO No./tem402132338/10', ' CRCA . Product', ' W_6710705839/R2120801245UN/Dec  PO No.', '   ', '   ', '   ', '   ', '   ', '   ', '   ', '   ', '   ', '   ', '   ', ' G.NAOU)  ', ' Authorised Signatory  ', '   ', '   ']\n",
            "--> [' S513PART2 S513PART2  ', '    ', ' CM/L-6200107888   ', ' 05.01.2024 05.01.2024 CH_MM24_HSLA3400.81245Dale ', ' SO No./tem402132338/10  SO No./tem402132338/10 ', ' CRCA . Product ', ' W_6710705839/R2120801245UN/Dec  PO No. ', '    ', '    Ra m', '    ', '    080', '    1.40', '    28.100.86', '    ', '    ', '    ', '    ', '    ', ' G.NAOU)   ', ' Authorised Signatory   ', '    ', '    ']\n",
            "--> [' S513PART2 S513PART2   ', '     ', ' CM/L-6200107888    ', ' 05.01.2024 05.01.2024 CH_MM24_HSLA3400.81245Dale  CH_MM24_HSLA3400.81245Dale', ' SO No./tem402132338/10  SO No./tem402132338/10  ', ' CRCA . Product  ', ' W_6710705839/R2120801245UN/Dec  PO No.  ', '     ', '    Ra m UTSGL(mm)EL%', '     ', '    080 21.00', '    1.40 ', '    28.100.86 28.100.86', '     ', '     ', '     ', '     ', '     ', ' G.NAOU)    ', ' Authorised Signatory    ', '     ', '     ']\n",
            "--> [' S513PART2 S513PART2    ', '      ', ' CM/L-6200107888     ', ' 05.01.2024 05.01.2024 CH_MM24_HSLA3400.81245Dale  CH_MM24_HSLA3400.81245Dale ', ' SO No./tem402132338/10  SO No./tem402132338/10   ', ' CRCA . Product   ', ' W_6710705839/R2120801245UN/Dec  PO No.   ', '      ', '    Ra m UTSGL(mm)EL% UTSGL(mm)EL%', '      ', '    080 21.00 ', '    1.40  ', '    28.100.86 28.100.86 ', '      08', '      ', '      ', '      ', '      ', ' G.NAOU)     ', ' Authorised Signatory     ', '      ', '      ']\n",
            "--> [' S513PART2 S513PART2     ', '       ', ' CM/L-6200107888      ', ' 05.01.2024 05.01.2024 CH_MM24_HSLA3400.81245Dale  CH_MM24_HSLA3400.81245Dale  ', ' SO No./tem402132338/10  SO No./tem402132338/10    Part Name', ' CRCA . Product    ', ' W_6710705839/R2120801245UN/Dec  PO No.    ', '       ', '    Ra m UTSGL(mm)EL% UTSGL(mm)EL% UTSGL(mm)EL%', '       (MPa', '    080 21.00  410', '    1.40   510', '    28.100.86 28.100.86  470', '      08 470', '       ', '       ', '       ', '       ', ' G.NAOU)      ', ' Authorised Signatory      ', '       ', '       ']\n",
            "--> [' S513PART2 S513PART2      ', '        ', ' CM/L-6200107888       ', ' 05.01.2024 05.01.2024 CH_MM24_HSLA3400.81245Dale  CH_MM24_HSLA3400.81245Dale   Part No.', ' SO No./tem402132338/10  SO No./tem402132338/10    Part Name Part Name', ' CRCA . Product     ', ' W_6710705839/R2120801245UN/Dec  PO No.     ', '        TEST RESULTS', '    Ra m UTSGL(mm)EL% UTSGL(mm)EL% UTSGL(mm)EL% ', '       (MPa ed', '    080 21.00  410 ', '    1.40   510 420', '    28.100.86 28.100.86  470 ', '      08 470 344', '        ', '        ', '        ', '        ', ' G.NAOU)       ', ' Authorised Signatory       ', '        ', '        ']\n",
            "--> [' S513PART2 S513PART2       ', '         ', ' CM/L-6200107888        ', ' 05.01.2024 05.01.2024 CH_MM24_HSLA3400.81245Dale  CH_MM24_HSLA3400.81245Dale   Part No. ', ' SO No./tem402132338/10  SO No./tem402132338/10    Part Name Part Name ', ' CRCA . Product      ', ' W_6710705839/R2120801245UN/Dec  PO No.      ', '        TEST RESULTS ', '    Ra m UTSGL(mm)EL% UTSGL(mm)EL% UTSGL(mm)EL%  %%N%1', '       (MPa ed ', '    080 21.00  410  0.015', '    1.40   510 420 0.0700.00700.150', '    28.100.86 28.100.86  470  ', '      08 470 344 9900', '         ', '         ', '         ', '         ', ' G.NAOU)        ', ' Authorised Signatory        ', '         ', '         ']\n",
            "--> [' S513PART2 S513PART2        JSW STEEL LIMITED', '          JSw CentreBandra Kurla ComplexBandra EastMumbai-400 05', ' CM/L-6200107888         ', ' 05.01.2024 05.01.2024 CH_MM24_HSLA3400.81245Dale  CH_MM24_HSLA3400.81245Dale   Part No.  ', ' SO No./tem402132338/10  SO No./tem402132338/10    Part Name Part Name  ', ' CRCA . Product       ', ' W_6710705839/R2120801245UN/Dec  PO No.       ', '        TEST RESULTS  ', '    Ra m UTSGL(mm)EL% UTSGL(mm)EL% UTSGL(mm)EL%  %%N%1 P%', '       (MPa ed  ', '    080 21.00  410  0.015 ', '    1.40   510 420 0.0700.00700.150 0.0250.500', '    28.100.86 28.100.86  470   08900000000000900000000600', '      08 470 344 9900 0.0150.022', '          ', '          23.335 Grand Total of Coils/Pkt/Bundles/Slab', '          ', '          ', ' G.NAOU)         ', ' Authorised Signatory         ', '          ', '          ']\n",
            "--> [' S513PART2 S513PART2        JSW STEEL LIMITED ', '          JSw CentreBandra Kurla ComplexBandra EastMumbai-400 05 ', ' CM/L-6200107888          ', ' 05.01.2024 05.01.2024 CH_MM24_HSLA3400.81245Dale  CH_MM24_HSLA3400.81245Dale   Part No.   ', ' SO No./tem402132338/10  SO No./tem402132338/10    Part Name Part Name   ', ' CRCA . Product        ', ' W_6710705839/R2120801245UN/Dec  PO No.        ', '        TEST RESULTS   ', '    Ra m UTSGL(mm)EL% UTSGL(mm)EL% UTSGL(mm)EL%  %%N%1 P% %S', '       (MPa ed   ', '    080 21.00  410  0.015  ', '    1.40   510 420 0.0700.00700.150 0.0250.500 0005', '    28.100.86 28.100.86  470   08900000000000900000000600 ', '      08 470 344 9900 0.0150.022 004', '           ', '          23.335 Grand Total of Coils/Pkt/Bundles/Slab 23.335 Grand Total of Coils/Pkt/Bundles/Slab', '           ', '           ', ' G.NAOU)          ', ' Authorised Signatory          ', '           ', '           ']\n",
            "--> [' S513PART2 S513PART2        JSW STEEL LIMITED  ', '          JSw CentreBandra Kurla ComplexBandra EastMumbai-400 05  ', ' CM/L-6200107888           ', ' 05.01.2024 05.01.2024 CH_MM24_HSLA3400.81245Dale  CH_MM24_HSLA3400.81245Dale   Part No.    ', ' SO No./tem402132338/10  SO No./tem402132338/10    Part Name Part Name    ', ' CRCA . Product         ', ' W_6710705839/R2120801245UN/Dec  PO No.         ', '        TEST RESULTS    ', '    Ra m UTSGL(mm)EL% UTSGL(mm)EL% UTSGL(mm)EL%  %%N%1 P% %S C%Mn%', '       (MPa ed    ', '    080 21.00  410  0.015   ', '    1.40   510 420 0.0700.00700.150 0.0250.500 0005 1.10', '    28.100.86 28.100.86  470   08900000000000900000000600  ', '      08 470 344 9900 0.0150.022 004 ', '            ', '          23.335 Grand Total of Coils/Pkt/Bundles/Slab 23.335 Grand Total of Coils/Pkt/Bundles/Slab 23.335 Grand Total of Coils/Pkt/Bundles/Slab', '            ', '            ', ' G.NAOU)           ', ' Authorised Signatory           ', '            ', '            ']\n",
            "--> [' S513PART2 S513PART2        JSW STEEL LIMITED   ', '          JSw CentreBandra Kurla ComplexBandra EastMumbai-400 05   ', ' CM/L-6200107888            ', ' 05.01.2024 05.01.2024 CH_MM24_HSLA3400.81245Dale  CH_MM24_HSLA3400.81245Dale   Part No.     ', ' SO No./tem402132338/10  SO No./tem402132338/10    Part Name Part Name     ', ' CRCA . Product          ', ' W_6710705839/R2120801245UN/Dec  PO No.          ', '        TEST RESULTS     ', '    Ra m UTSGL(mm)EL% UTSGL(mm)EL% UTSGL(mm)EL%  %%N%1 P% %S C%Mn% C%Mn%', '       (MPa ed     ', '    080 21.00  410  0.015    ', '    1.40   510 420 0.0700.00700.150 0.0250.500 0005 1.10 0.1000', '    28.100.86 28.100.86  470   08900000000000900000000600   ', '      08 470 344 9900 0.0150.022 004  15.8450.0690', '             ', '          23.335 Grand Total of Coils/Pkt/Bundles/Slab 23.335 Grand Total of Coils/Pkt/Bundles/Slab 23.335 Grand Total of Coils/Pkt/Bundles/Slab 23.335 Grand Total of Coils/Pkt/Bundles/Slab', '             ', '             ', ' G.NAOU)            ', ' Authorised Signatory            ', '             ', '             ']\n",
            "--> [' S513PART2 S513PART2        JSW STEEL LIMITED    ', '          JSw CentreBandra Kurla ComplexBandra EastMumbai-400 05    ', ' CM/L-6200107888             ', ' 05.01.2024 05.01.2024 CH_MM24_HSLA3400.81245Dale  CH_MM24_HSLA3400.81245Dale   Part No.      ', ' SO No./tem402132338/10  SO No./tem402132338/10    Part Name Part Name      ', ' CRCA . Product           ', ' W_6710705839/R2120801245UN/Dec  PO No.           ', '        TEST RESULTS      ', '    Ra m UTSGL(mm)EL% UTSGL(mm)EL% UTSGL(mm)EL%  %%N%1 P% %S C%Mn% C%Mn% QTY', '       (MPa ed      MT)', '    080 21.00  410  0.015     ', '    1.40   510 420 0.0700.00700.150 0.0250.500 0005 1.10 0.1000 Max', '    28.100.86 28.100.86  470   08900000000000900000000600    7.490', '      08 470 344 9900 0.0150.022 004  15.8450.0690 15.8450.0690', '              ', '          23.335 Grand Total of Coils/Pkt/Bundles/Slab 23.335 Grand Total of Coils/Pkt/Bundles/Slab 23.335 Grand Total of Coils/Pkt/Bundles/Slab 23.335 Grand Total of Coils/Pkt/Bundles/Slab ', '              ', '              ', ' G.NAOU)             ', ' Authorised Signatory             ', '              ', '              ']\n",
            "--> [' S513PART2 S513PART2        JSW STEEL LIMITED     ', '          JSw CentreBandra Kurla ComplexBandra EastMumbai-400 05     ', ' CM/L-6200107888              ', ' 05.01.2024 05.01.2024 CH_MM24_HSLA3400.81245Dale  CH_MM24_HSLA3400.81245Dale   Part No.       Test Certificate CRCA/23-24/0003300894', ' SO No./tem402132338/10  SO No./tem402132338/10    Part Name Part Name       To M/S.Mahindra Auto Steel PVT.LTD.', ' CRCA . Product            ', ' W_6710705839/R2120801245UN/Dec  PO No.            PUNE-410501 Region:13', '        TEST RESULTS       ', '    Ra m UTSGL(mm)EL% UTSGL(mm)EL% UTSGL(mm)EL%  %%N%1 P% %S C%Mn% C%Mn% QTY ', '       (MPa ed      MT) ', '    080 21.00  410  0.015      Nominal Size MM', '    1.40   510 420 0.0700.00700.150 0.0250.500 0005 1.10 0.1000 Max X', '    28.100.86 28.100.86  470   08900000000000900000000600    7.490 0.8001245.0XCo', '      08 470 344 9900 0.0150.022 004  15.8450.0690 15.8450.0690 0.800X1245.0XCo', '               ', '          23.335 Grand Total of Coils/Pkt/Bundles/Slab 23.335 Grand Total of Coils/Pkt/Bundles/Slab 23.335 Grand Total of Coils/Pkt/Bundles/Slab 23.335 Grand Total of Coils/Pkt/Bundles/Slab  ', '               Legends:', '               ', ' G.NAOU)              ', ' Authorised Signatory              ', '               ', '               Remarks']\n",
            "--> [' S513PART2 S513PART2        JSW STEEL LIMITED      MS', '          JSw CentreBandra Kurla ComplexBandra EastMumbai-400 05      ', ' CM/L-6200107888               ', ' 05.01.2024 05.01.2024 CH_MM24_HSLA3400.81245Dale  CH_MM24_HSLA3400.81245Dale   Part No.       Test Certificate CRCA/23-24/0003300894 Test Certificate CRCA/23-24/0003300894', ' SO No./tem402132338/10  SO No./tem402132338/10    Part Name Part Name       To M/S.Mahindra Auto Steel PVT.LTD. To M/S.Mahindra Auto Steel PVT.LTD.', ' CRCA . Product             Plot No.C23/1', ' W_6710705839/R2120801245UN/Dec  PO No.            PUNE-410501 Region:13 PUNE-410501 Region:13', '        TEST RESULTS        IS GRADEIS 513_PART2_2016 ISC410LA', '    Ra m UTSGL(mm)EL% UTSGL(mm)EL% UTSGL(mm)EL%  %%N%1 P% %S C%Mn% C%Mn% QTY  ', '       (MPa ed      MT)  MM24_HSLA340', '    080 21.00  410  0.015      Nominal Size MM Coil No.', '    1.40   510 420 0.0700.00700.150 0.0250.500 0005 1.10 0.1000 Max X ', '    28.100.86 28.100.86  470   08900000000000900000000600    7.490 0.8001245.0XCo 0.8001245.0XCo', '      08 470 344 9900 0.0150.022 004  15.8450.0690 15.8450.0690 0.800X1245.0XCo 0.800X1245.0XCo', '                ', '          23.335 Grand Total of Coils/Pkt/Bundles/Slab 23.335 Grand Total of Coils/Pkt/Bundles/Slab 23.335 Grand Total of Coils/Pkt/Bundles/Slab 23.335 Grand Total of Coils/Pkt/Bundles/Slab   Total Weight in Metric Tonnes', '               Legends: 714956638', '                7106382091', ' G.NAOU)               23VJ2900487244', ' Authorised Signatory               Mode of TransportTruck', '                TN37DF9601', '               Remarks ']\n",
            "--> [' S513PART2 S513PART2        JSW STEEL LIMITED      MS ', '          JSw CentreBandra Kurla ComplexBandra EastMumbai-400 05       ', ' CM/L-6200107888                ', ' 05.01.2024 05.01.2024 CH_MM24_HSLA3400.81245Dale  CH_MM24_HSLA3400.81245Dale   Part No.       Test Certificate CRCA/23-24/0003300894 Test Certificate CRCA/23-24/0003300894 ', ' SO No./tem402132338/10  SO No./tem402132338/10    Part Name Part Name       To M/S.Mahindra Auto Steel PVT.LTD. To M/S.Mahindra Auto Steel PVT.LTD. ', ' CRCA . Product             Plot No.C23/1 ', ' W_6710705839/R2120801245UN/Dec  PO No.            PUNE-410501 Region:13 PUNE-410501 Region:13 ', '        TEST RESULTS        IS GRADEIS 513_PART2_2016 ISC410LA IS GRADEIS 513_PART2_2016 ISC410LA', '    Ra m UTSGL(mm)EL% UTSGL(mm)EL% UTSGL(mm)EL%  %%N%1 P% %S C%Mn% C%Mn% QTY   ', '       (MPa ed      MT)  MM24_HSLA340 ', '    080 21.00  410  0.015      Nominal Size MM Coil No. Heat No.', '    1.40   510 420 0.0700.00700.150 0.0250.500 0005 1.10 0.1000 Max X  Mother Coil', '    28.100.86 28.100.86  470   08900000000000900000000600    7.490 0.8001245.0XCo 0.8001245.0XCo ', '      08 470 344 9900 0.0150.022 004  15.8450.0690 15.8450.0690 0.800X1245.0XCo 0.800X1245.0XCo D955015', '                 NC65080000', '          23.335 Grand Total of Coils/Pkt/Bundles/Slab 23.335 Grand Total of Coils/Pkt/Bundles/Slab 23.335 Grand Total of Coils/Pkt/Bundles/Slab 23.335 Grand Total of Coils/Pkt/Bundles/Slab   Total Weight in Metric Tonnes Total Weight in Metric Tonnes', '               Legends: 714956638 Delivery D', '                7106382091 Invoice No.', ' G.NAOU)               23VJ2900487244 GST Invoice No', ' Authorised Signatory               Mode of TransportTruck Mode of TransportTruck', '                TN37DF9601 Vehicle No.', '               Remarks  LC No.']\n",
            "[]\n"
          ]
        }
      ],
      "source": [
        "for i in range(len(out_array)):\n",
        "  if not empty(out_array[i]):\n",
        "    current_bank=[out_array[i][j] for j in range(len(out_array[i]))]\n",
        "    cleaned_array.append(current_bank)\n",
        "    not_empty=True\n",
        "  else:\n",
        "    for j in range(len(out_array[i])):\n",
        "      current_bank[j]+=' '+out_array[i][j]\n",
        "    print('-->',current_bank)\n",
        "cleaned_array=np.array(cleaned_array)\n",
        "print(cleaned_array)"
      ]
    },
    {
      "cell_type": "code",
      "execution_count": 110,
      "metadata": {
        "id": "RZltyMmD_E68"
      },
      "outputs": [],
      "source": [
        "pd.DataFrame(cleaned_array).to_csv('cleaned.csv')"
      ]
    },
    {
      "cell_type": "markdown",
      "metadata": {
        "id": "M9rH5mX9Mx7g"
      },
      "source": [
        "# Convert to OWL Format"
      ]
    },
    {
      "cell_type": "markdown",
      "metadata": {
        "id": "SqFdbM634H5w"
      },
      "source": [
        "# **CSV to Text**"
      ]
    },
    {
      "cell_type": "code",
      "execution_count": 114,
      "metadata": {
        "colab": {
          "base_uri": "https://localhost:8080/",
          "height": 373
        },
        "id": "949GB9T1_Go7",
        "outputId": "d3bf9a55-8248-459c-8eb6-c2c67e5a84b3"
      },
      "outputs": [
        {
          "name": "stdout",
          "output_type": "stream",
          "text": [
            "Collecting jpype1\n",
            "  Downloading JPype1-1.5.0-cp311-cp311-manylinux_2_17_x86_64.manylinux2014_x86_64.whl (488 kB)\n",
            "\u001b[2K     \u001b[90m━━━━━━━━━━━━━━━━━━━━━━━━━━━━━━━━━━━━━\u001b[0m \u001b[32m488.6/488.6 kB\u001b[0m \u001b[31m595.2 kB/s\u001b[0m eta \u001b[36m0:00:00\u001b[0ma \u001b[36m0:00:01\u001b[0m\n",
            "\u001b[?25h\u001b[31mERROR: Could not find a version that satisfies the requirement asposecells (from versions: none)\u001b[0m\u001b[31m\n",
            "\u001b[0m\u001b[31mERROR: No matching distribution found for asposecells\u001b[0m\u001b[31m\n",
            "\u001b[0m"
          ]
        },
        {
          "ename": "ModuleNotFoundError",
          "evalue": "No module named 'jpype'",
          "output_type": "error",
          "traceback": [
            "\u001b[0;31m---------------------------------------------------------------------------\u001b[0m",
            "\u001b[0;31mModuleNotFoundError\u001b[0m                       Traceback (most recent call last)",
            "Cell \u001b[0;32mIn[114], line 2\u001b[0m\n\u001b[1;32m      1\u001b[0m get_ipython()\u001b[38;5;241m.\u001b[39msystem(\u001b[38;5;124m'\u001b[39m\u001b[38;5;124mpip install jpype1 asposecells\u001b[39m\u001b[38;5;124m'\u001b[39m)\n\u001b[0;32m----> 2\u001b[0m \u001b[38;5;28;01mimport\u001b[39;00m  \u001b[38;5;21;01mjpype\u001b[39;00m\n\u001b[1;32m      3\u001b[0m \u001b[38;5;28;01mimport\u001b[39;00m  \u001b[38;5;21;01masposecells\u001b[39;00m\n\u001b[1;32m      6\u001b[0m jpype\u001b[38;5;241m.\u001b[39mstartJVM()\n",
            "\u001b[0;31mModuleNotFoundError\u001b[0m: No module named 'jpype'"
          ]
        }
      ],
      "source": [
        "!pip install jpype1 asposecells\n",
        "import  jpype\n",
        "import  asposecells\n",
        "\n",
        "\n",
        "jpype.startJVM()\n",
        "from asposecells.api import Workbook\n",
        "\n",
        "workbook = Workbook(\"/content/sample.csv\")\n",
        "workbook.save(\"Output.docx\")\n",
        "jpype.shutdownJVM()"
      ]
    },
    {
      "cell_type": "markdown",
      "metadata": {
        "id": "FIzj02CHqce7"
      },
      "source": [
        "# Brighten Image (For Anyone dealing with PDFs created from scanned images)"
      ]
    },
    {
      "cell_type": "code",
      "execution_count": null,
      "metadata": {
        "id": "vnzqj5q34DQk"
      },
      "outputs": [],
      "source": [
        "from PIL import Image, ImageEnhance\n",
        "\n",
        "#read the image\n",
        "im = Image.open(\"ext_im.jpg\")\n",
        "\n",
        "#image brightness enhancer\n",
        "enhancer = ImageEnhance.Brightness(im)\n",
        "\n",
        "factor = 1 #gives original image\n",
        "im_output = enhancer.enhance(factor)\n",
        "im_output.save('ext_im-1.jpg')\n",
        "\n",
        "factor = 1.5## brightens the image\n",
        "im_output = enhancer.enhance(factor)\n",
        "im_output.save('ext_im-2.jpg')\n"
      ]
    },
    {
      "cell_type": "code",
      "execution_count": null,
      "metadata": {
        "id": "arQSfE2br7YT"
      },
      "outputs": [],
      "source": []
    }
  ],
  "metadata": {
    "accelerator": "GPU",
    "colab": {
      "collapsed_sections": [
        "E693Ela3qhLx",
        "SqFdbM634H5w",
        "FIzj02CHqce7"
      ],
      "provenance": []
    },
    "kernelspec": {
      "display_name": "Python 3",
      "name": "python3"
    },
    "language_info": {
      "codemirror_mode": {
        "name": "ipython",
        "version": 3
      },
      "file_extension": ".py",
      "mimetype": "text/x-python",
      "name": "python",
      "nbconvert_exporter": "python",
      "pygments_lexer": "ipython3",
      "version": "3.11.4"
    }
  },
  "nbformat": 4,
  "nbformat_minor": 0
}
